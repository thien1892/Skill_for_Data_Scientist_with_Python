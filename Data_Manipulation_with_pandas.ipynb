{
  "nbformat": 4,
  "nbformat_minor": 0,
  "metadata": {
    "colab": {
      "name": "Data Manipulation with pandas.ipynb",
      "provenance": [],
      "collapsed_sections": [],
      "mount_file_id": "1Nu2ROl663sQuEl25co3BdwF8gsz2XWbT",
      "authorship_tag": "ABX9TyNYQEowskuRP+Lyh97zhOXv",
      "include_colab_link": true
    },
    "kernelspec": {
      "name": "python3",
      "display_name": "Python 3"
    },
    "language_info": {
      "name": "python"
    }
  },
  "cells": [
    {
      "cell_type": "markdown",
      "metadata": {
        "id": "view-in-github",
        "colab_type": "text"
      },
      "source": [
        "<a href=\"https://colab.research.google.com/github/thien1892/Skill_for_Data_Scientist_with_Python/blob/main/Data_Manipulation_with_pandas.ipynb\" target=\"_parent\"><img src=\"https://colab.research.google.com/assets/colab-badge.svg\" alt=\"Open In Colab\"/></a>"
      ]
    },
    {
      "cell_type": "code",
      "metadata": {
        "colab": {
          "base_uri": "https://localhost:8080/"
        },
        "id": "I4IeiSznVHo8",
        "outputId": "bf9ee0d7-bdbf-4f59-ede9-fde22dfa3f86"
      },
      "source": [
        "cd /content/drive/MyDrive/Data_scientist_with_python/Dataset/Data Manipulation with pandas/"
      ],
      "execution_count": 1,
      "outputs": [
        {
          "output_type": "stream",
          "name": "stdout",
          "text": [
            "/content/drive/MyDrive/Data_scientist_with_python/Dataset/Data Manipulation with pandas\n"
          ]
        }
      ]
    },
    {
      "cell_type": "markdown",
      "metadata": {
        "id": "Zv9PNxZXWcaV"
      },
      "source": [
        "#1. Exploring a DataFrame"
      ]
    },
    {
      "cell_type": "code",
      "metadata": {
        "id": "1jEleTDDWdiI"
      },
      "source": [
        "import pandas as pd\n",
        "import numpy as np\n",
        "df = pd.read_csv('homelessness.csv', index_col= 0)"
      ],
      "execution_count": 2,
      "outputs": []
    },
    {
      "cell_type": "code",
      "metadata": {
        "colab": {
          "base_uri": "https://localhost:8080/",
          "height": 206
        },
        "id": "niHWgvESW3si",
        "outputId": "727379a7-79b0-4dac-fa92-78905290be65"
      },
      "source": [
        "df.head()"
      ],
      "execution_count": 14,
      "outputs": [
        {
          "output_type": "execute_result",
          "data": {
            "text/html": [
              "<div>\n",
              "<style scoped>\n",
              "    .dataframe tbody tr th:only-of-type {\n",
              "        vertical-align: middle;\n",
              "    }\n",
              "\n",
              "    .dataframe tbody tr th {\n",
              "        vertical-align: top;\n",
              "    }\n",
              "\n",
              "    .dataframe thead th {\n",
              "        text-align: right;\n",
              "    }\n",
              "</style>\n",
              "<table border=\"1\" class=\"dataframe\">\n",
              "  <thead>\n",
              "    <tr style=\"text-align: right;\">\n",
              "      <th></th>\n",
              "      <th>region</th>\n",
              "      <th>state</th>\n",
              "      <th>individuals</th>\n",
              "      <th>family_members</th>\n",
              "      <th>state_pop</th>\n",
              "    </tr>\n",
              "  </thead>\n",
              "  <tbody>\n",
              "    <tr>\n",
              "      <th>0</th>\n",
              "      <td>East South Central</td>\n",
              "      <td>Alabama</td>\n",
              "      <td>2570.0</td>\n",
              "      <td>864.0</td>\n",
              "      <td>4887681</td>\n",
              "    </tr>\n",
              "    <tr>\n",
              "      <th>1</th>\n",
              "      <td>Pacific</td>\n",
              "      <td>Alaska</td>\n",
              "      <td>1434.0</td>\n",
              "      <td>582.0</td>\n",
              "      <td>735139</td>\n",
              "    </tr>\n",
              "    <tr>\n",
              "      <th>2</th>\n",
              "      <td>Mountain</td>\n",
              "      <td>Arizona</td>\n",
              "      <td>7259.0</td>\n",
              "      <td>2606.0</td>\n",
              "      <td>7158024</td>\n",
              "    </tr>\n",
              "    <tr>\n",
              "      <th>3</th>\n",
              "      <td>West South Central</td>\n",
              "      <td>Arkansas</td>\n",
              "      <td>2280.0</td>\n",
              "      <td>432.0</td>\n",
              "      <td>3009733</td>\n",
              "    </tr>\n",
              "    <tr>\n",
              "      <th>4</th>\n",
              "      <td>Pacific</td>\n",
              "      <td>California</td>\n",
              "      <td>109008.0</td>\n",
              "      <td>20964.0</td>\n",
              "      <td>39461588</td>\n",
              "    </tr>\n",
              "  </tbody>\n",
              "</table>\n",
              "</div>"
            ],
            "text/plain": [
              "               region       state  individuals  family_members  state_pop\n",
              "0  East South Central     Alabama       2570.0           864.0    4887681\n",
              "1             Pacific      Alaska       1434.0           582.0     735139\n",
              "2            Mountain     Arizona       7259.0          2606.0    7158024\n",
              "3  West South Central    Arkansas       2280.0           432.0    3009733\n",
              "4             Pacific  California     109008.0         20964.0   39461588"
            ]
          },
          "metadata": {},
          "execution_count": 14
        }
      ]
    },
    {
      "cell_type": "code",
      "metadata": {
        "colab": {
          "base_uri": "https://localhost:8080/"
        },
        "id": "ICciYEs2W61f",
        "outputId": "5206ba5a-372d-47ff-b2c7-314d450dfc5e"
      },
      "source": [
        "df.info()"
      ],
      "execution_count": 15,
      "outputs": [
        {
          "output_type": "stream",
          "name": "stdout",
          "text": [
            "<class 'pandas.core.frame.DataFrame'>\n",
            "Int64Index: 51 entries, 0 to 50\n",
            "Data columns (total 5 columns):\n",
            " #   Column          Non-Null Count  Dtype  \n",
            "---  ------          --------------  -----  \n",
            " 0   region          51 non-null     object \n",
            " 1   state           51 non-null     object \n",
            " 2   individuals     51 non-null     float64\n",
            " 3   family_members  51 non-null     float64\n",
            " 4   state_pop       51 non-null     int64  \n",
            "dtypes: float64(2), int64(1), object(2)\n",
            "memory usage: 2.4+ KB\n"
          ]
        }
      ]
    },
    {
      "cell_type": "code",
      "metadata": {
        "colab": {
          "base_uri": "https://localhost:8080/"
        },
        "id": "tcJ4esD9W75H",
        "outputId": "ba2eda2a-88ac-4d64-87e1-8565701f305d"
      },
      "source": [
        "df.shape"
      ],
      "execution_count": 16,
      "outputs": [
        {
          "output_type": "execute_result",
          "data": {
            "text/plain": [
              "(51, 5)"
            ]
          },
          "metadata": {},
          "execution_count": 16
        }
      ]
    },
    {
      "cell_type": "code",
      "metadata": {
        "colab": {
          "base_uri": "https://localhost:8080/",
          "height": 300
        },
        "id": "4uKCzYxnW-o4",
        "outputId": "ba92f566-e665-4f67-cbcb-ea1be7876cac"
      },
      "source": [
        "df.describe()"
      ],
      "execution_count": 17,
      "outputs": [
        {
          "output_type": "execute_result",
          "data": {
            "text/html": [
              "<div>\n",
              "<style scoped>\n",
              "    .dataframe tbody tr th:only-of-type {\n",
              "        vertical-align: middle;\n",
              "    }\n",
              "\n",
              "    .dataframe tbody tr th {\n",
              "        vertical-align: top;\n",
              "    }\n",
              "\n",
              "    .dataframe thead th {\n",
              "        text-align: right;\n",
              "    }\n",
              "</style>\n",
              "<table border=\"1\" class=\"dataframe\">\n",
              "  <thead>\n",
              "    <tr style=\"text-align: right;\">\n",
              "      <th></th>\n",
              "      <th>individuals</th>\n",
              "      <th>family_members</th>\n",
              "      <th>state_pop</th>\n",
              "    </tr>\n",
              "  </thead>\n",
              "  <tbody>\n",
              "    <tr>\n",
              "      <th>count</th>\n",
              "      <td>51.000000</td>\n",
              "      <td>51.000000</td>\n",
              "      <td>5.100000e+01</td>\n",
              "    </tr>\n",
              "    <tr>\n",
              "      <th>mean</th>\n",
              "      <td>7225.784314</td>\n",
              "      <td>3504.882353</td>\n",
              "      <td>6.405637e+06</td>\n",
              "    </tr>\n",
              "    <tr>\n",
              "      <th>std</th>\n",
              "      <td>15991.025083</td>\n",
              "      <td>7805.411811</td>\n",
              "      <td>7.327258e+06</td>\n",
              "    </tr>\n",
              "    <tr>\n",
              "      <th>min</th>\n",
              "      <td>434.000000</td>\n",
              "      <td>75.000000</td>\n",
              "      <td>5.776010e+05</td>\n",
              "    </tr>\n",
              "    <tr>\n",
              "      <th>25%</th>\n",
              "      <td>1446.500000</td>\n",
              "      <td>592.000000</td>\n",
              "      <td>1.777414e+06</td>\n",
              "    </tr>\n",
              "    <tr>\n",
              "      <th>50%</th>\n",
              "      <td>3082.000000</td>\n",
              "      <td>1482.000000</td>\n",
              "      <td>4.461153e+06</td>\n",
              "    </tr>\n",
              "    <tr>\n",
              "      <th>75%</th>\n",
              "      <td>6781.500000</td>\n",
              "      <td>3196.000000</td>\n",
              "      <td>7.340946e+06</td>\n",
              "    </tr>\n",
              "    <tr>\n",
              "      <th>max</th>\n",
              "      <td>109008.000000</td>\n",
              "      <td>52070.000000</td>\n",
              "      <td>3.946159e+07</td>\n",
              "    </tr>\n",
              "  </tbody>\n",
              "</table>\n",
              "</div>"
            ],
            "text/plain": [
              "         individuals  family_members     state_pop\n",
              "count      51.000000       51.000000  5.100000e+01\n",
              "mean     7225.784314     3504.882353  6.405637e+06\n",
              "std     15991.025083     7805.411811  7.327258e+06\n",
              "min       434.000000       75.000000  5.776010e+05\n",
              "25%      1446.500000      592.000000  1.777414e+06\n",
              "50%      3082.000000     1482.000000  4.461153e+06\n",
              "75%      6781.500000     3196.000000  7.340946e+06\n",
              "max    109008.000000    52070.000000  3.946159e+07"
            ]
          },
          "metadata": {},
          "execution_count": 17
        }
      ]
    },
    {
      "cell_type": "code",
      "metadata": {
        "colab": {
          "base_uri": "https://localhost:8080/"
        },
        "id": "WY7K-6vCXBeH",
        "outputId": "c7506c22-2ef7-422c-db7f-954e6369e5f0"
      },
      "source": [
        "df.head().values"
      ],
      "execution_count": 18,
      "outputs": [
        {
          "output_type": "execute_result",
          "data": {
            "text/plain": [
              "array([['East South Central', 'Alabama', 2570.0, 864.0, 4887681],\n",
              "       ['Pacific', 'Alaska', 1434.0, 582.0, 735139],\n",
              "       ['Mountain', 'Arizona', 7259.0, 2606.0, 7158024],\n",
              "       ['West South Central', 'Arkansas', 2280.0, 432.0, 3009733],\n",
              "       ['Pacific', 'California', 109008.0, 20964.0, 39461588]],\n",
              "      dtype=object)"
            ]
          },
          "metadata": {},
          "execution_count": 18
        }
      ]
    },
    {
      "cell_type": "code",
      "metadata": {
        "colab": {
          "base_uri": "https://localhost:8080/"
        },
        "id": "690YksW3XIfX",
        "outputId": "ae90dbc1-430b-4935-d516-d1d6db758274"
      },
      "source": [
        "df.columns"
      ],
      "execution_count": 19,
      "outputs": [
        {
          "output_type": "execute_result",
          "data": {
            "text/plain": [
              "Index(['region', 'state', 'individuals', 'family_members', 'state_pop'], dtype='object')"
            ]
          },
          "metadata": {},
          "execution_count": 19
        }
      ]
    },
    {
      "cell_type": "code",
      "metadata": {
        "colab": {
          "base_uri": "https://localhost:8080/"
        },
        "id": "w47zH6swXLBH",
        "outputId": "9182a29f-b91a-413c-ec2a-1bee02817fde"
      },
      "source": [
        "df.index"
      ],
      "execution_count": 20,
      "outputs": [
        {
          "output_type": "execute_result",
          "data": {
            "text/plain": [
              "Int64Index([ 0,  1,  2,  3,  4,  5,  6,  7,  8,  9, 10, 11, 12, 13, 14, 15, 16,\n",
              "            17, 18, 19, 20, 21, 22, 23, 24, 25, 26, 27, 28, 29, 30, 31, 32, 33,\n",
              "            34, 35, 36, 37, 38, 39, 40, 41, 42, 43, 44, 45, 46, 47, 48, 49,\n",
              "            50],\n",
              "           dtype='int64')"
            ]
          },
          "metadata": {},
          "execution_count": 20
        }
      ]
    },
    {
      "cell_type": "markdown",
      "metadata": {
        "id": "iwRB0Y9IXo54"
      },
      "source": [
        "# 2. Sorting"
      ]
    },
    {
      "cell_type": "code",
      "metadata": {
        "colab": {
          "base_uri": "https://localhost:8080/",
          "height": 206
        },
        "id": "qciEB5SqXOuv",
        "outputId": "4decb7a0-c223-4faa-a3a0-b8e5664fcb0c"
      },
      "source": [
        "df.sort_values(\"region\").head()"
      ],
      "execution_count": 22,
      "outputs": [
        {
          "output_type": "execute_result",
          "data": {
            "text/html": [
              "<div>\n",
              "<style scoped>\n",
              "    .dataframe tbody tr th:only-of-type {\n",
              "        vertical-align: middle;\n",
              "    }\n",
              "\n",
              "    .dataframe tbody tr th {\n",
              "        vertical-align: top;\n",
              "    }\n",
              "\n",
              "    .dataframe thead th {\n",
              "        text-align: right;\n",
              "    }\n",
              "</style>\n",
              "<table border=\"1\" class=\"dataframe\">\n",
              "  <thead>\n",
              "    <tr style=\"text-align: right;\">\n",
              "      <th></th>\n",
              "      <th>region</th>\n",
              "      <th>state</th>\n",
              "      <th>individuals</th>\n",
              "      <th>family_members</th>\n",
              "      <th>state_pop</th>\n",
              "    </tr>\n",
              "  </thead>\n",
              "  <tbody>\n",
              "    <tr>\n",
              "      <th>35</th>\n",
              "      <td>East North Central</td>\n",
              "      <td>Ohio</td>\n",
              "      <td>6929.0</td>\n",
              "      <td>3320.0</td>\n",
              "      <td>11676341</td>\n",
              "    </tr>\n",
              "    <tr>\n",
              "      <th>49</th>\n",
              "      <td>East North Central</td>\n",
              "      <td>Wisconsin</td>\n",
              "      <td>2740.0</td>\n",
              "      <td>2167.0</td>\n",
              "      <td>5807406</td>\n",
              "    </tr>\n",
              "    <tr>\n",
              "      <th>22</th>\n",
              "      <td>East North Central</td>\n",
              "      <td>Michigan</td>\n",
              "      <td>5209.0</td>\n",
              "      <td>3142.0</td>\n",
              "      <td>9984072</td>\n",
              "    </tr>\n",
              "    <tr>\n",
              "      <th>13</th>\n",
              "      <td>East North Central</td>\n",
              "      <td>Illinois</td>\n",
              "      <td>6752.0</td>\n",
              "      <td>3891.0</td>\n",
              "      <td>12723071</td>\n",
              "    </tr>\n",
              "    <tr>\n",
              "      <th>14</th>\n",
              "      <td>East North Central</td>\n",
              "      <td>Indiana</td>\n",
              "      <td>3776.0</td>\n",
              "      <td>1482.0</td>\n",
              "      <td>6695497</td>\n",
              "    </tr>\n",
              "  </tbody>\n",
              "</table>\n",
              "</div>"
            ],
            "text/plain": [
              "                region      state  individuals  family_members  state_pop\n",
              "35  East North Central       Ohio       6929.0          3320.0   11676341\n",
              "49  East North Central  Wisconsin       2740.0          2167.0    5807406\n",
              "22  East North Central   Michigan       5209.0          3142.0    9984072\n",
              "13  East North Central   Illinois       6752.0          3891.0   12723071\n",
              "14  East North Central    Indiana       3776.0          1482.0    6695497"
            ]
          },
          "metadata": {},
          "execution_count": 22
        }
      ]
    },
    {
      "cell_type": "code",
      "metadata": {
        "colab": {
          "base_uri": "https://localhost:8080/",
          "height": 206
        },
        "id": "3F8JdcyhX3cv",
        "outputId": "40eb53fc-8d30-4549-f9c1-942a6a9a4e2e"
      },
      "source": [
        "df.sort_values(\"region\", ascending= False).head()"
      ],
      "execution_count": 23,
      "outputs": [
        {
          "output_type": "execute_result",
          "data": {
            "text/html": [
              "<div>\n",
              "<style scoped>\n",
              "    .dataframe tbody tr th:only-of-type {\n",
              "        vertical-align: middle;\n",
              "    }\n",
              "\n",
              "    .dataframe tbody tr th {\n",
              "        vertical-align: top;\n",
              "    }\n",
              "\n",
              "    .dataframe thead th {\n",
              "        text-align: right;\n",
              "    }\n",
              "</style>\n",
              "<table border=\"1\" class=\"dataframe\">\n",
              "  <thead>\n",
              "    <tr style=\"text-align: right;\">\n",
              "      <th></th>\n",
              "      <th>region</th>\n",
              "      <th>state</th>\n",
              "      <th>individuals</th>\n",
              "      <th>family_members</th>\n",
              "      <th>state_pop</th>\n",
              "    </tr>\n",
              "  </thead>\n",
              "  <tbody>\n",
              "    <tr>\n",
              "      <th>36</th>\n",
              "      <td>West South Central</td>\n",
              "      <td>Oklahoma</td>\n",
              "      <td>2823.0</td>\n",
              "      <td>1048.0</td>\n",
              "      <td>3940235</td>\n",
              "    </tr>\n",
              "    <tr>\n",
              "      <th>3</th>\n",
              "      <td>West South Central</td>\n",
              "      <td>Arkansas</td>\n",
              "      <td>2280.0</td>\n",
              "      <td>432.0</td>\n",
              "      <td>3009733</td>\n",
              "    </tr>\n",
              "    <tr>\n",
              "      <th>18</th>\n",
              "      <td>West South Central</td>\n",
              "      <td>Louisiana</td>\n",
              "      <td>2540.0</td>\n",
              "      <td>519.0</td>\n",
              "      <td>4659690</td>\n",
              "    </tr>\n",
              "    <tr>\n",
              "      <th>43</th>\n",
              "      <td>West South Central</td>\n",
              "      <td>Texas</td>\n",
              "      <td>19199.0</td>\n",
              "      <td>6111.0</td>\n",
              "      <td>28628666</td>\n",
              "    </tr>\n",
              "    <tr>\n",
              "      <th>25</th>\n",
              "      <td>West North Central</td>\n",
              "      <td>Missouri</td>\n",
              "      <td>3776.0</td>\n",
              "      <td>2107.0</td>\n",
              "      <td>6121623</td>\n",
              "    </tr>\n",
              "  </tbody>\n",
              "</table>\n",
              "</div>"
            ],
            "text/plain": [
              "                region      state  individuals  family_members  state_pop\n",
              "36  West South Central   Oklahoma       2823.0          1048.0    3940235\n",
              "3   West South Central   Arkansas       2280.0           432.0    3009733\n",
              "18  West South Central  Louisiana       2540.0           519.0    4659690\n",
              "43  West South Central      Texas      19199.0          6111.0   28628666\n",
              "25  West North Central   Missouri       3776.0          2107.0    6121623"
            ]
          },
          "metadata": {},
          "execution_count": 23
        }
      ]
    },
    {
      "cell_type": "code",
      "metadata": {
        "colab": {
          "base_uri": "https://localhost:8080/",
          "height": 206
        },
        "id": "kwfPdHJdX-P-",
        "outputId": "71bc39a1-4e5b-4c7f-cd0b-93b7134f7645"
      },
      "source": [
        "df.sort_values(['region', 'state']).head()"
      ],
      "execution_count": 24,
      "outputs": [
        {
          "output_type": "execute_result",
          "data": {
            "text/html": [
              "<div>\n",
              "<style scoped>\n",
              "    .dataframe tbody tr th:only-of-type {\n",
              "        vertical-align: middle;\n",
              "    }\n",
              "\n",
              "    .dataframe tbody tr th {\n",
              "        vertical-align: top;\n",
              "    }\n",
              "\n",
              "    .dataframe thead th {\n",
              "        text-align: right;\n",
              "    }\n",
              "</style>\n",
              "<table border=\"1\" class=\"dataframe\">\n",
              "  <thead>\n",
              "    <tr style=\"text-align: right;\">\n",
              "      <th></th>\n",
              "      <th>region</th>\n",
              "      <th>state</th>\n",
              "      <th>individuals</th>\n",
              "      <th>family_members</th>\n",
              "      <th>state_pop</th>\n",
              "    </tr>\n",
              "  </thead>\n",
              "  <tbody>\n",
              "    <tr>\n",
              "      <th>13</th>\n",
              "      <td>East North Central</td>\n",
              "      <td>Illinois</td>\n",
              "      <td>6752.0</td>\n",
              "      <td>3891.0</td>\n",
              "      <td>12723071</td>\n",
              "    </tr>\n",
              "    <tr>\n",
              "      <th>14</th>\n",
              "      <td>East North Central</td>\n",
              "      <td>Indiana</td>\n",
              "      <td>3776.0</td>\n",
              "      <td>1482.0</td>\n",
              "      <td>6695497</td>\n",
              "    </tr>\n",
              "    <tr>\n",
              "      <th>22</th>\n",
              "      <td>East North Central</td>\n",
              "      <td>Michigan</td>\n",
              "      <td>5209.0</td>\n",
              "      <td>3142.0</td>\n",
              "      <td>9984072</td>\n",
              "    </tr>\n",
              "    <tr>\n",
              "      <th>35</th>\n",
              "      <td>East North Central</td>\n",
              "      <td>Ohio</td>\n",
              "      <td>6929.0</td>\n",
              "      <td>3320.0</td>\n",
              "      <td>11676341</td>\n",
              "    </tr>\n",
              "    <tr>\n",
              "      <th>49</th>\n",
              "      <td>East North Central</td>\n",
              "      <td>Wisconsin</td>\n",
              "      <td>2740.0</td>\n",
              "      <td>2167.0</td>\n",
              "      <td>5807406</td>\n",
              "    </tr>\n",
              "  </tbody>\n",
              "</table>\n",
              "</div>"
            ],
            "text/plain": [
              "                region      state  individuals  family_members  state_pop\n",
              "13  East North Central   Illinois       6752.0          3891.0   12723071\n",
              "14  East North Central    Indiana       3776.0          1482.0    6695497\n",
              "22  East North Central   Michigan       5209.0          3142.0    9984072\n",
              "35  East North Central       Ohio       6929.0          3320.0   11676341\n",
              "49  East North Central  Wisconsin       2740.0          2167.0    5807406"
            ]
          },
          "metadata": {},
          "execution_count": 24
        }
      ]
    },
    {
      "cell_type": "code",
      "metadata": {
        "colab": {
          "base_uri": "https://localhost:8080/",
          "height": 206
        },
        "id": "49RmPLNzYSnX",
        "outputId": "fd1d67ea-7959-4e6b-dc9d-95f4345b39e4"
      },
      "source": [
        "df.sort_values(['region', 'state'], ascending= [True, False]).head()"
      ],
      "execution_count": 25,
      "outputs": [
        {
          "output_type": "execute_result",
          "data": {
            "text/html": [
              "<div>\n",
              "<style scoped>\n",
              "    .dataframe tbody tr th:only-of-type {\n",
              "        vertical-align: middle;\n",
              "    }\n",
              "\n",
              "    .dataframe tbody tr th {\n",
              "        vertical-align: top;\n",
              "    }\n",
              "\n",
              "    .dataframe thead th {\n",
              "        text-align: right;\n",
              "    }\n",
              "</style>\n",
              "<table border=\"1\" class=\"dataframe\">\n",
              "  <thead>\n",
              "    <tr style=\"text-align: right;\">\n",
              "      <th></th>\n",
              "      <th>region</th>\n",
              "      <th>state</th>\n",
              "      <th>individuals</th>\n",
              "      <th>family_members</th>\n",
              "      <th>state_pop</th>\n",
              "    </tr>\n",
              "  </thead>\n",
              "  <tbody>\n",
              "    <tr>\n",
              "      <th>49</th>\n",
              "      <td>East North Central</td>\n",
              "      <td>Wisconsin</td>\n",
              "      <td>2740.0</td>\n",
              "      <td>2167.0</td>\n",
              "      <td>5807406</td>\n",
              "    </tr>\n",
              "    <tr>\n",
              "      <th>35</th>\n",
              "      <td>East North Central</td>\n",
              "      <td>Ohio</td>\n",
              "      <td>6929.0</td>\n",
              "      <td>3320.0</td>\n",
              "      <td>11676341</td>\n",
              "    </tr>\n",
              "    <tr>\n",
              "      <th>22</th>\n",
              "      <td>East North Central</td>\n",
              "      <td>Michigan</td>\n",
              "      <td>5209.0</td>\n",
              "      <td>3142.0</td>\n",
              "      <td>9984072</td>\n",
              "    </tr>\n",
              "    <tr>\n",
              "      <th>14</th>\n",
              "      <td>East North Central</td>\n",
              "      <td>Indiana</td>\n",
              "      <td>3776.0</td>\n",
              "      <td>1482.0</td>\n",
              "      <td>6695497</td>\n",
              "    </tr>\n",
              "    <tr>\n",
              "      <th>13</th>\n",
              "      <td>East North Central</td>\n",
              "      <td>Illinois</td>\n",
              "      <td>6752.0</td>\n",
              "      <td>3891.0</td>\n",
              "      <td>12723071</td>\n",
              "    </tr>\n",
              "  </tbody>\n",
              "</table>\n",
              "</div>"
            ],
            "text/plain": [
              "                region      state  individuals  family_members  state_pop\n",
              "49  East North Central  Wisconsin       2740.0          2167.0    5807406\n",
              "35  East North Central       Ohio       6929.0          3320.0   11676341\n",
              "22  East North Central   Michigan       5209.0          3142.0    9984072\n",
              "14  East North Central    Indiana       3776.0          1482.0    6695497\n",
              "13  East North Central   Illinois       6752.0          3891.0   12723071"
            ]
          },
          "metadata": {},
          "execution_count": 25
        }
      ]
    },
    {
      "cell_type": "markdown",
      "metadata": {
        "id": "lb63Y6PWYcje"
      },
      "source": [
        "# 3.Subsetting"
      ]
    },
    {
      "cell_type": "code",
      "metadata": {
        "colab": {
          "base_uri": "https://localhost:8080/"
        },
        "id": "F8Y-J5gOYeI0",
        "outputId": "2335b129-764d-46a3-f5dd-619aee05af66"
      },
      "source": [
        "df['region'].head()"
      ],
      "execution_count": 26,
      "outputs": [
        {
          "output_type": "execute_result",
          "data": {
            "text/plain": [
              "0    East South Central\n",
              "1               Pacific\n",
              "2              Mountain\n",
              "3    West South Central\n",
              "4               Pacific\n",
              "Name: region, dtype: object"
            ]
          },
          "metadata": {},
          "execution_count": 26
        }
      ]
    },
    {
      "cell_type": "code",
      "metadata": {
        "colab": {
          "base_uri": "https://localhost:8080/",
          "height": 206
        },
        "id": "0tlMlAILYijs",
        "outputId": "a50e3160-5f53-4554-de93-ae079c42c578"
      },
      "source": [
        "df[['region', 'state']].head()"
      ],
      "execution_count": 27,
      "outputs": [
        {
          "output_type": "execute_result",
          "data": {
            "text/html": [
              "<div>\n",
              "<style scoped>\n",
              "    .dataframe tbody tr th:only-of-type {\n",
              "        vertical-align: middle;\n",
              "    }\n",
              "\n",
              "    .dataframe tbody tr th {\n",
              "        vertical-align: top;\n",
              "    }\n",
              "\n",
              "    .dataframe thead th {\n",
              "        text-align: right;\n",
              "    }\n",
              "</style>\n",
              "<table border=\"1\" class=\"dataframe\">\n",
              "  <thead>\n",
              "    <tr style=\"text-align: right;\">\n",
              "      <th></th>\n",
              "      <th>region</th>\n",
              "      <th>state</th>\n",
              "    </tr>\n",
              "  </thead>\n",
              "  <tbody>\n",
              "    <tr>\n",
              "      <th>0</th>\n",
              "      <td>East South Central</td>\n",
              "      <td>Alabama</td>\n",
              "    </tr>\n",
              "    <tr>\n",
              "      <th>1</th>\n",
              "      <td>Pacific</td>\n",
              "      <td>Alaska</td>\n",
              "    </tr>\n",
              "    <tr>\n",
              "      <th>2</th>\n",
              "      <td>Mountain</td>\n",
              "      <td>Arizona</td>\n",
              "    </tr>\n",
              "    <tr>\n",
              "      <th>3</th>\n",
              "      <td>West South Central</td>\n",
              "      <td>Arkansas</td>\n",
              "    </tr>\n",
              "    <tr>\n",
              "      <th>4</th>\n",
              "      <td>Pacific</td>\n",
              "      <td>California</td>\n",
              "    </tr>\n",
              "  </tbody>\n",
              "</table>\n",
              "</div>"
            ],
            "text/plain": [
              "               region       state\n",
              "0  East South Central     Alabama\n",
              "1             Pacific      Alaska\n",
              "2            Mountain     Arizona\n",
              "3  West South Central    Arkansas\n",
              "4             Pacific  California"
            ]
          },
          "metadata": {},
          "execution_count": 27
        }
      ]
    },
    {
      "cell_type": "code",
      "metadata": {
        "colab": {
          "base_uri": "https://localhost:8080/"
        },
        "id": "ptWhhhMqYsqM",
        "outputId": "95d6ca19-abe8-4a29-e326-2549f2b065cf"
      },
      "source": [
        "df['individuals'].head() > 3000"
      ],
      "execution_count": 29,
      "outputs": [
        {
          "output_type": "execute_result",
          "data": {
            "text/plain": [
              "0    False\n",
              "1    False\n",
              "2     True\n",
              "3    False\n",
              "4     True\n",
              "Name: individuals, dtype: bool"
            ]
          },
          "metadata": {},
          "execution_count": 29
        }
      ]
    },
    {
      "cell_type": "code",
      "metadata": {
        "colab": {
          "base_uri": "https://localhost:8080/",
          "height": 206
        },
        "id": "SHn-zbb7Y24E",
        "outputId": "0d709362-0043-42bd-d98b-5595ca57242c"
      },
      "source": [
        "df[df['individuals'] > 3000].head()"
      ],
      "execution_count": 30,
      "outputs": [
        {
          "output_type": "execute_result",
          "data": {
            "text/html": [
              "<div>\n",
              "<style scoped>\n",
              "    .dataframe tbody tr th:only-of-type {\n",
              "        vertical-align: middle;\n",
              "    }\n",
              "\n",
              "    .dataframe tbody tr th {\n",
              "        vertical-align: top;\n",
              "    }\n",
              "\n",
              "    .dataframe thead th {\n",
              "        text-align: right;\n",
              "    }\n",
              "</style>\n",
              "<table border=\"1\" class=\"dataframe\">\n",
              "  <thead>\n",
              "    <tr style=\"text-align: right;\">\n",
              "      <th></th>\n",
              "      <th>region</th>\n",
              "      <th>state</th>\n",
              "      <th>individuals</th>\n",
              "      <th>family_members</th>\n",
              "      <th>state_pop</th>\n",
              "    </tr>\n",
              "  </thead>\n",
              "  <tbody>\n",
              "    <tr>\n",
              "      <th>2</th>\n",
              "      <td>Mountain</td>\n",
              "      <td>Arizona</td>\n",
              "      <td>7259.0</td>\n",
              "      <td>2606.0</td>\n",
              "      <td>7158024</td>\n",
              "    </tr>\n",
              "    <tr>\n",
              "      <th>4</th>\n",
              "      <td>Pacific</td>\n",
              "      <td>California</td>\n",
              "      <td>109008.0</td>\n",
              "      <td>20964.0</td>\n",
              "      <td>39461588</td>\n",
              "    </tr>\n",
              "    <tr>\n",
              "      <th>5</th>\n",
              "      <td>Mountain</td>\n",
              "      <td>Colorado</td>\n",
              "      <td>7607.0</td>\n",
              "      <td>3250.0</td>\n",
              "      <td>5691287</td>\n",
              "    </tr>\n",
              "    <tr>\n",
              "      <th>8</th>\n",
              "      <td>South Atlantic</td>\n",
              "      <td>District of Columbia</td>\n",
              "      <td>3770.0</td>\n",
              "      <td>3134.0</td>\n",
              "      <td>701547</td>\n",
              "    </tr>\n",
              "    <tr>\n",
              "      <th>9</th>\n",
              "      <td>South Atlantic</td>\n",
              "      <td>Florida</td>\n",
              "      <td>21443.0</td>\n",
              "      <td>9587.0</td>\n",
              "      <td>21244317</td>\n",
              "    </tr>\n",
              "  </tbody>\n",
              "</table>\n",
              "</div>"
            ],
            "text/plain": [
              "           region                 state  individuals  family_members  state_pop\n",
              "2        Mountain               Arizona       7259.0          2606.0    7158024\n",
              "4         Pacific            California     109008.0         20964.0   39461588\n",
              "5        Mountain              Colorado       7607.0          3250.0    5691287\n",
              "8  South Atlantic  District of Columbia       3770.0          3134.0     701547\n",
              "9  South Atlantic               Florida      21443.0          9587.0   21244317"
            ]
          },
          "metadata": {},
          "execution_count": 30
        }
      ]
    },
    {
      "cell_type": "code",
      "metadata": {
        "colab": {
          "base_uri": "https://localhost:8080/",
          "height": 331
        },
        "id": "BO7k5NSQZJcD",
        "outputId": "f88ce797-7956-404d-a075-97b8529cd58f"
      },
      "source": [
        "df[df['region'] == 'South Atlantic']"
      ],
      "execution_count": 32,
      "outputs": [
        {
          "output_type": "execute_result",
          "data": {
            "text/html": [
              "<div>\n",
              "<style scoped>\n",
              "    .dataframe tbody tr th:only-of-type {\n",
              "        vertical-align: middle;\n",
              "    }\n",
              "\n",
              "    .dataframe tbody tr th {\n",
              "        vertical-align: top;\n",
              "    }\n",
              "\n",
              "    .dataframe thead th {\n",
              "        text-align: right;\n",
              "    }\n",
              "</style>\n",
              "<table border=\"1\" class=\"dataframe\">\n",
              "  <thead>\n",
              "    <tr style=\"text-align: right;\">\n",
              "      <th></th>\n",
              "      <th>region</th>\n",
              "      <th>state</th>\n",
              "      <th>individuals</th>\n",
              "      <th>family_members</th>\n",
              "      <th>state_pop</th>\n",
              "    </tr>\n",
              "  </thead>\n",
              "  <tbody>\n",
              "    <tr>\n",
              "      <th>7</th>\n",
              "      <td>South Atlantic</td>\n",
              "      <td>Delaware</td>\n",
              "      <td>708.0</td>\n",
              "      <td>374.0</td>\n",
              "      <td>965479</td>\n",
              "    </tr>\n",
              "    <tr>\n",
              "      <th>8</th>\n",
              "      <td>South Atlantic</td>\n",
              "      <td>District of Columbia</td>\n",
              "      <td>3770.0</td>\n",
              "      <td>3134.0</td>\n",
              "      <td>701547</td>\n",
              "    </tr>\n",
              "    <tr>\n",
              "      <th>9</th>\n",
              "      <td>South Atlantic</td>\n",
              "      <td>Florida</td>\n",
              "      <td>21443.0</td>\n",
              "      <td>9587.0</td>\n",
              "      <td>21244317</td>\n",
              "    </tr>\n",
              "    <tr>\n",
              "      <th>10</th>\n",
              "      <td>South Atlantic</td>\n",
              "      <td>Georgia</td>\n",
              "      <td>6943.0</td>\n",
              "      <td>2556.0</td>\n",
              "      <td>10511131</td>\n",
              "    </tr>\n",
              "    <tr>\n",
              "      <th>20</th>\n",
              "      <td>South Atlantic</td>\n",
              "      <td>Maryland</td>\n",
              "      <td>4914.0</td>\n",
              "      <td>2230.0</td>\n",
              "      <td>6035802</td>\n",
              "    </tr>\n",
              "    <tr>\n",
              "      <th>33</th>\n",
              "      <td>South Atlantic</td>\n",
              "      <td>North Carolina</td>\n",
              "      <td>6451.0</td>\n",
              "      <td>2817.0</td>\n",
              "      <td>10381615</td>\n",
              "    </tr>\n",
              "    <tr>\n",
              "      <th>40</th>\n",
              "      <td>South Atlantic</td>\n",
              "      <td>South Carolina</td>\n",
              "      <td>3082.0</td>\n",
              "      <td>851.0</td>\n",
              "      <td>5084156</td>\n",
              "    </tr>\n",
              "    <tr>\n",
              "      <th>46</th>\n",
              "      <td>South Atlantic</td>\n",
              "      <td>Virginia</td>\n",
              "      <td>3928.0</td>\n",
              "      <td>2047.0</td>\n",
              "      <td>8501286</td>\n",
              "    </tr>\n",
              "    <tr>\n",
              "      <th>48</th>\n",
              "      <td>South Atlantic</td>\n",
              "      <td>West Virginia</td>\n",
              "      <td>1021.0</td>\n",
              "      <td>222.0</td>\n",
              "      <td>1804291</td>\n",
              "    </tr>\n",
              "  </tbody>\n",
              "</table>\n",
              "</div>"
            ],
            "text/plain": [
              "            region                 state  ...  family_members  state_pop\n",
              "7   South Atlantic              Delaware  ...           374.0     965479\n",
              "8   South Atlantic  District of Columbia  ...          3134.0     701547\n",
              "9   South Atlantic               Florida  ...          9587.0   21244317\n",
              "10  South Atlantic               Georgia  ...          2556.0   10511131\n",
              "20  South Atlantic              Maryland  ...          2230.0    6035802\n",
              "33  South Atlantic        North Carolina  ...          2817.0   10381615\n",
              "40  South Atlantic        South Carolina  ...           851.0    5084156\n",
              "46  South Atlantic              Virginia  ...          2047.0    8501286\n",
              "48  South Atlantic         West Virginia  ...           222.0    1804291\n",
              "\n",
              "[9 rows x 5 columns]"
            ]
          },
          "metadata": {},
          "execution_count": 32
        }
      ]
    },
    {
      "cell_type": "code",
      "metadata": {
        "colab": {
          "base_uri": "https://localhost:8080/",
          "height": 175
        },
        "id": "htc1TPWSZYSq",
        "outputId": "fb9c0b70-9556-41f8-f3c7-9dd1634691c4"
      },
      "source": [
        "df[(df['region'] == 'South Atlantic') & (df['individuals'] > 4000)]"
      ],
      "execution_count": 34,
      "outputs": [
        {
          "output_type": "execute_result",
          "data": {
            "text/html": [
              "<div>\n",
              "<style scoped>\n",
              "    .dataframe tbody tr th:only-of-type {\n",
              "        vertical-align: middle;\n",
              "    }\n",
              "\n",
              "    .dataframe tbody tr th {\n",
              "        vertical-align: top;\n",
              "    }\n",
              "\n",
              "    .dataframe thead th {\n",
              "        text-align: right;\n",
              "    }\n",
              "</style>\n",
              "<table border=\"1\" class=\"dataframe\">\n",
              "  <thead>\n",
              "    <tr style=\"text-align: right;\">\n",
              "      <th></th>\n",
              "      <th>region</th>\n",
              "      <th>state</th>\n",
              "      <th>individuals</th>\n",
              "      <th>family_members</th>\n",
              "      <th>state_pop</th>\n",
              "    </tr>\n",
              "  </thead>\n",
              "  <tbody>\n",
              "    <tr>\n",
              "      <th>9</th>\n",
              "      <td>South Atlantic</td>\n",
              "      <td>Florida</td>\n",
              "      <td>21443.0</td>\n",
              "      <td>9587.0</td>\n",
              "      <td>21244317</td>\n",
              "    </tr>\n",
              "    <tr>\n",
              "      <th>10</th>\n",
              "      <td>South Atlantic</td>\n",
              "      <td>Georgia</td>\n",
              "      <td>6943.0</td>\n",
              "      <td>2556.0</td>\n",
              "      <td>10511131</td>\n",
              "    </tr>\n",
              "    <tr>\n",
              "      <th>20</th>\n",
              "      <td>South Atlantic</td>\n",
              "      <td>Maryland</td>\n",
              "      <td>4914.0</td>\n",
              "      <td>2230.0</td>\n",
              "      <td>6035802</td>\n",
              "    </tr>\n",
              "    <tr>\n",
              "      <th>33</th>\n",
              "      <td>South Atlantic</td>\n",
              "      <td>North Carolina</td>\n",
              "      <td>6451.0</td>\n",
              "      <td>2817.0</td>\n",
              "      <td>10381615</td>\n",
              "    </tr>\n",
              "  </tbody>\n",
              "</table>\n",
              "</div>"
            ],
            "text/plain": [
              "            region           state  individuals  family_members  state_pop\n",
              "9   South Atlantic         Florida      21443.0          9587.0   21244317\n",
              "10  South Atlantic         Georgia       6943.0          2556.0   10511131\n",
              "20  South Atlantic        Maryland       4914.0          2230.0    6035802\n",
              "33  South Atlantic  North Carolina       6451.0          2817.0   10381615"
            ]
          },
          "metadata": {},
          "execution_count": 34
        }
      ]
    },
    {
      "cell_type": "code",
      "metadata": {
        "colab": {
          "base_uri": "https://localhost:8080/",
          "height": 112
        },
        "id": "3FaiopQwZxOa",
        "outputId": "8a8a3eb1-0ecf-4454-e2b1-6786c29343b6"
      },
      "source": [
        "df[df['state'].isin(['Florida', 'North Carolina'])]"
      ],
      "execution_count": 35,
      "outputs": [
        {
          "output_type": "execute_result",
          "data": {
            "text/html": [
              "<div>\n",
              "<style scoped>\n",
              "    .dataframe tbody tr th:only-of-type {\n",
              "        vertical-align: middle;\n",
              "    }\n",
              "\n",
              "    .dataframe tbody tr th {\n",
              "        vertical-align: top;\n",
              "    }\n",
              "\n",
              "    .dataframe thead th {\n",
              "        text-align: right;\n",
              "    }\n",
              "</style>\n",
              "<table border=\"1\" class=\"dataframe\">\n",
              "  <thead>\n",
              "    <tr style=\"text-align: right;\">\n",
              "      <th></th>\n",
              "      <th>region</th>\n",
              "      <th>state</th>\n",
              "      <th>individuals</th>\n",
              "      <th>family_members</th>\n",
              "      <th>state_pop</th>\n",
              "    </tr>\n",
              "  </thead>\n",
              "  <tbody>\n",
              "    <tr>\n",
              "      <th>9</th>\n",
              "      <td>South Atlantic</td>\n",
              "      <td>Florida</td>\n",
              "      <td>21443.0</td>\n",
              "      <td>9587.0</td>\n",
              "      <td>21244317</td>\n",
              "    </tr>\n",
              "    <tr>\n",
              "      <th>33</th>\n",
              "      <td>South Atlantic</td>\n",
              "      <td>North Carolina</td>\n",
              "      <td>6451.0</td>\n",
              "      <td>2817.0</td>\n",
              "      <td>10381615</td>\n",
              "    </tr>\n",
              "  </tbody>\n",
              "</table>\n",
              "</div>"
            ],
            "text/plain": [
              "            region           state  individuals  family_members  state_pop\n",
              "9   South Atlantic         Florida      21443.0          9587.0   21244317\n",
              "33  South Atlantic  North Carolina       6451.0          2817.0   10381615"
            ]
          },
          "metadata": {},
          "execution_count": 35
        }
      ]
    },
    {
      "cell_type": "code",
      "metadata": {
        "colab": {
          "base_uri": "https://localhost:8080/",
          "height": 206
        },
        "id": "Eseu0bmmaJoO",
        "outputId": "8cda783a-7b91-4a83-edbf-a3a6f68ca48a"
      },
      "source": [
        "df['state_pop_1000'] = df['state_pop'] / 1000\n",
        "df.head()"
      ],
      "execution_count": 36,
      "outputs": [
        {
          "output_type": "execute_result",
          "data": {
            "text/html": [
              "<div>\n",
              "<style scoped>\n",
              "    .dataframe tbody tr th:only-of-type {\n",
              "        vertical-align: middle;\n",
              "    }\n",
              "\n",
              "    .dataframe tbody tr th {\n",
              "        vertical-align: top;\n",
              "    }\n",
              "\n",
              "    .dataframe thead th {\n",
              "        text-align: right;\n",
              "    }\n",
              "</style>\n",
              "<table border=\"1\" class=\"dataframe\">\n",
              "  <thead>\n",
              "    <tr style=\"text-align: right;\">\n",
              "      <th></th>\n",
              "      <th>region</th>\n",
              "      <th>state</th>\n",
              "      <th>individuals</th>\n",
              "      <th>family_members</th>\n",
              "      <th>state_pop</th>\n",
              "      <th>state_pop_1000</th>\n",
              "    </tr>\n",
              "  </thead>\n",
              "  <tbody>\n",
              "    <tr>\n",
              "      <th>0</th>\n",
              "      <td>East South Central</td>\n",
              "      <td>Alabama</td>\n",
              "      <td>2570.0</td>\n",
              "      <td>864.0</td>\n",
              "      <td>4887681</td>\n",
              "      <td>4887.681</td>\n",
              "    </tr>\n",
              "    <tr>\n",
              "      <th>1</th>\n",
              "      <td>Pacific</td>\n",
              "      <td>Alaska</td>\n",
              "      <td>1434.0</td>\n",
              "      <td>582.0</td>\n",
              "      <td>735139</td>\n",
              "      <td>735.139</td>\n",
              "    </tr>\n",
              "    <tr>\n",
              "      <th>2</th>\n",
              "      <td>Mountain</td>\n",
              "      <td>Arizona</td>\n",
              "      <td>7259.0</td>\n",
              "      <td>2606.0</td>\n",
              "      <td>7158024</td>\n",
              "      <td>7158.024</td>\n",
              "    </tr>\n",
              "    <tr>\n",
              "      <th>3</th>\n",
              "      <td>West South Central</td>\n",
              "      <td>Arkansas</td>\n",
              "      <td>2280.0</td>\n",
              "      <td>432.0</td>\n",
              "      <td>3009733</td>\n",
              "      <td>3009.733</td>\n",
              "    </tr>\n",
              "    <tr>\n",
              "      <th>4</th>\n",
              "      <td>Pacific</td>\n",
              "      <td>California</td>\n",
              "      <td>109008.0</td>\n",
              "      <td>20964.0</td>\n",
              "      <td>39461588</td>\n",
              "      <td>39461.588</td>\n",
              "    </tr>\n",
              "  </tbody>\n",
              "</table>\n",
              "</div>"
            ],
            "text/plain": [
              "               region       state  ...  state_pop  state_pop_1000\n",
              "0  East South Central     Alabama  ...    4887681        4887.681\n",
              "1             Pacific      Alaska  ...     735139         735.139\n",
              "2            Mountain     Arizona  ...    7158024        7158.024\n",
              "3  West South Central    Arkansas  ...    3009733        3009.733\n",
              "4             Pacific  California  ...   39461588       39461.588\n",
              "\n",
              "[5 rows x 6 columns]"
            ]
          },
          "metadata": {},
          "execution_count": 36
        }
      ]
    },
    {
      "cell_type": "markdown",
      "metadata": {
        "id": "klejYw0jatM4"
      },
      "source": [
        "# 4. Summary statistics"
      ]
    },
    {
      "cell_type": "code",
      "metadata": {
        "colab": {
          "base_uri": "https://localhost:8080/"
        },
        "id": "FKc30n7yaUfB",
        "outputId": "06c670ce-3705-434b-cb8f-0fe956d10a19"
      },
      "source": [
        "# .median() , .mode(), .min() , .max(), .var() , .std(), .sum(), .quantile()\n",
        "df['state_pop'].max()"
      ],
      "execution_count": 37,
      "outputs": [
        {
          "output_type": "execute_result",
          "data": {
            "text/plain": [
              "39461588"
            ]
          },
          "metadata": {},
          "execution_count": 37
        }
      ]
    },
    {
      "cell_type": "code",
      "metadata": {
        "id": "F7GjgPsVbCti"
      },
      "source": [
        "def pct75(column):\n",
        "  return column.quantile(0.75)"
      ],
      "execution_count": 41,
      "outputs": []
    },
    {
      "cell_type": "code",
      "metadata": {
        "colab": {
          "base_uri": "https://localhost:8080/"
        },
        "id": "USr0Q85vehfS",
        "outputId": "a7e4e61a-2922-4afd-96ec-b39a63bd5285"
      },
      "source": [
        "df['family_members'].agg(pct75)"
      ],
      "execution_count": 42,
      "outputs": [
        {
          "output_type": "execute_result",
          "data": {
            "text/plain": [
              "3196.0"
            ]
          },
          "metadata": {},
          "execution_count": 42
        }
      ]
    },
    {
      "cell_type": "code",
      "metadata": {
        "colab": {
          "base_uri": "https://localhost:8080/",
          "height": 144
        },
        "id": "QLcTShR6emmR",
        "outputId": "2918123f-ac12-40fc-aa24-75ccf33d9af9"
      },
      "source": [
        "df[['individuals', 'family_members']].agg([pct75, max, min])"
      ],
      "execution_count": 47,
      "outputs": [
        {
          "output_type": "execute_result",
          "data": {
            "text/html": [
              "<div>\n",
              "<style scoped>\n",
              "    .dataframe tbody tr th:only-of-type {\n",
              "        vertical-align: middle;\n",
              "    }\n",
              "\n",
              "    .dataframe tbody tr th {\n",
              "        vertical-align: top;\n",
              "    }\n",
              "\n",
              "    .dataframe thead th {\n",
              "        text-align: right;\n",
              "    }\n",
              "</style>\n",
              "<table border=\"1\" class=\"dataframe\">\n",
              "  <thead>\n",
              "    <tr style=\"text-align: right;\">\n",
              "      <th></th>\n",
              "      <th>individuals</th>\n",
              "      <th>family_members</th>\n",
              "    </tr>\n",
              "  </thead>\n",
              "  <tbody>\n",
              "    <tr>\n",
              "      <th>pct75</th>\n",
              "      <td>6781.5</td>\n",
              "      <td>3196.0</td>\n",
              "    </tr>\n",
              "    <tr>\n",
              "      <th>max</th>\n",
              "      <td>109008.0</td>\n",
              "      <td>52070.0</td>\n",
              "    </tr>\n",
              "    <tr>\n",
              "      <th>min</th>\n",
              "      <td>434.0</td>\n",
              "      <td>75.0</td>\n",
              "    </tr>\n",
              "  </tbody>\n",
              "</table>\n",
              "</div>"
            ],
            "text/plain": [
              "       individuals  family_members\n",
              "pct75       6781.5          3196.0\n",
              "max       109008.0         52070.0\n",
              "min          434.0            75.0"
            ]
          },
          "metadata": {},
          "execution_count": 47
        }
      ]
    },
    {
      "cell_type": "code",
      "metadata": {
        "colab": {
          "base_uri": "https://localhost:8080/"
        },
        "id": "zxPZEfrye_uo",
        "outputId": "e562d72f-5223-4c62-dd54-d6ca730cbaec"
      },
      "source": [
        "df['individuals'].head()"
      ],
      "execution_count": 49,
      "outputs": [
        {
          "output_type": "execute_result",
          "data": {
            "text/plain": [
              "0      2570.0\n",
              "1      1434.0\n",
              "2      7259.0\n",
              "3      2280.0\n",
              "4    109008.0\n",
              "Name: individuals, dtype: float64"
            ]
          },
          "metadata": {},
          "execution_count": 49
        }
      ]
    },
    {
      "cell_type": "code",
      "metadata": {
        "colab": {
          "base_uri": "https://localhost:8080/"
        },
        "id": "uLqGE6w4fUI4",
        "outputId": "fb60e77b-6d36-4b1e-e8b9-657d477a1b6c"
      },
      "source": [
        "df['individuals'].head().cumsum()"
      ],
      "execution_count": 51,
      "outputs": [
        {
          "output_type": "execute_result",
          "data": {
            "text/plain": [
              "0      2570.0\n",
              "1      4004.0\n",
              "2     11263.0\n",
              "3     13543.0\n",
              "4    122551.0\n",
              "Name: individuals, dtype: float64"
            ]
          },
          "metadata": {},
          "execution_count": 51
        }
      ]
    },
    {
      "cell_type": "code",
      "metadata": {
        "colab": {
          "base_uri": "https://localhost:8080/"
        },
        "id": "kKmQwwHSfYNY",
        "outputId": "74e7d9a0-7382-4df3-c05c-b61457ab4fb1"
      },
      "source": [
        "df['individuals'].head().cummax()"
      ],
      "execution_count": 4,
      "outputs": [
        {
          "output_type": "execute_result",
          "data": {
            "text/plain": [
              "0      2570.0\n",
              "1      2570.0\n",
              "2      7259.0\n",
              "3      7259.0\n",
              "4    109008.0\n",
              "Name: individuals, dtype: float64"
            ]
          },
          "metadata": {},
          "execution_count": 4
        }
      ]
    },
    {
      "cell_type": "markdown",
      "metadata": {
        "id": "WAlBFbQWgB5f"
      },
      "source": [
        "# 5.Counting"
      ]
    },
    {
      "cell_type": "code",
      "metadata": {
        "colab": {
          "base_uri": "https://localhost:8080/",
          "height": 331
        },
        "id": "spqgsbZ4fkQg",
        "outputId": "ed6c19c6-971a-41b9-9498-00294ecea468"
      },
      "source": [
        "df.drop_duplicates(subset= ['region'])"
      ],
      "execution_count": 60,
      "outputs": [
        {
          "output_type": "execute_result",
          "data": {
            "text/html": [
              "<div>\n",
              "<style scoped>\n",
              "    .dataframe tbody tr th:only-of-type {\n",
              "        vertical-align: middle;\n",
              "    }\n",
              "\n",
              "    .dataframe tbody tr th {\n",
              "        vertical-align: top;\n",
              "    }\n",
              "\n",
              "    .dataframe thead th {\n",
              "        text-align: right;\n",
              "    }\n",
              "</style>\n",
              "<table border=\"1\" class=\"dataframe\">\n",
              "  <thead>\n",
              "    <tr style=\"text-align: right;\">\n",
              "      <th></th>\n",
              "      <th>region</th>\n",
              "      <th>state</th>\n",
              "      <th>individuals</th>\n",
              "      <th>family_members</th>\n",
              "      <th>state_pop</th>\n",
              "      <th>state_pop_1000</th>\n",
              "    </tr>\n",
              "  </thead>\n",
              "  <tbody>\n",
              "    <tr>\n",
              "      <th>0</th>\n",
              "      <td>East South Central</td>\n",
              "      <td>Alabama</td>\n",
              "      <td>2570.0</td>\n",
              "      <td>864.0</td>\n",
              "      <td>4887681</td>\n",
              "      <td>4887.681</td>\n",
              "    </tr>\n",
              "    <tr>\n",
              "      <th>1</th>\n",
              "      <td>Pacific</td>\n",
              "      <td>Alaska</td>\n",
              "      <td>1434.0</td>\n",
              "      <td>582.0</td>\n",
              "      <td>735139</td>\n",
              "      <td>735.139</td>\n",
              "    </tr>\n",
              "    <tr>\n",
              "      <th>2</th>\n",
              "      <td>Mountain</td>\n",
              "      <td>Arizona</td>\n",
              "      <td>7259.0</td>\n",
              "      <td>2606.0</td>\n",
              "      <td>7158024</td>\n",
              "      <td>7158.024</td>\n",
              "    </tr>\n",
              "    <tr>\n",
              "      <th>3</th>\n",
              "      <td>West South Central</td>\n",
              "      <td>Arkansas</td>\n",
              "      <td>2280.0</td>\n",
              "      <td>432.0</td>\n",
              "      <td>3009733</td>\n",
              "      <td>3009.733</td>\n",
              "    </tr>\n",
              "    <tr>\n",
              "      <th>6</th>\n",
              "      <td>New England</td>\n",
              "      <td>Connecticut</td>\n",
              "      <td>2280.0</td>\n",
              "      <td>1696.0</td>\n",
              "      <td>3571520</td>\n",
              "      <td>3571.520</td>\n",
              "    </tr>\n",
              "    <tr>\n",
              "      <th>7</th>\n",
              "      <td>South Atlantic</td>\n",
              "      <td>Delaware</td>\n",
              "      <td>708.0</td>\n",
              "      <td>374.0</td>\n",
              "      <td>965479</td>\n",
              "      <td>965.479</td>\n",
              "    </tr>\n",
              "    <tr>\n",
              "      <th>13</th>\n",
              "      <td>East North Central</td>\n",
              "      <td>Illinois</td>\n",
              "      <td>6752.0</td>\n",
              "      <td>3891.0</td>\n",
              "      <td>12723071</td>\n",
              "      <td>12723.071</td>\n",
              "    </tr>\n",
              "    <tr>\n",
              "      <th>15</th>\n",
              "      <td>West North Central</td>\n",
              "      <td>Iowa</td>\n",
              "      <td>1711.0</td>\n",
              "      <td>1038.0</td>\n",
              "      <td>3148618</td>\n",
              "      <td>3148.618</td>\n",
              "    </tr>\n",
              "    <tr>\n",
              "      <th>30</th>\n",
              "      <td>Mid-Atlantic</td>\n",
              "      <td>New Jersey</td>\n",
              "      <td>6048.0</td>\n",
              "      <td>3350.0</td>\n",
              "      <td>8886025</td>\n",
              "      <td>8886.025</td>\n",
              "    </tr>\n",
              "  </tbody>\n",
              "</table>\n",
              "</div>"
            ],
            "text/plain": [
              "                region        state  ...  state_pop  state_pop_1000\n",
              "0   East South Central      Alabama  ...    4887681        4887.681\n",
              "1              Pacific       Alaska  ...     735139         735.139\n",
              "2             Mountain      Arizona  ...    7158024        7158.024\n",
              "3   West South Central     Arkansas  ...    3009733        3009.733\n",
              "6          New England  Connecticut  ...    3571520        3571.520\n",
              "7       South Atlantic     Delaware  ...     965479         965.479\n",
              "13  East North Central     Illinois  ...   12723071       12723.071\n",
              "15  West North Central         Iowa  ...    3148618        3148.618\n",
              "30        Mid-Atlantic   New Jersey  ...    8886025        8886.025\n",
              "\n",
              "[9 rows x 6 columns]"
            ]
          },
          "metadata": {},
          "execution_count": 60
        }
      ]
    },
    {
      "cell_type": "code",
      "metadata": {
        "colab": {
          "base_uri": "https://localhost:8080/",
          "height": 206
        },
        "id": "r5-16E52gbQi",
        "outputId": "245bfb6e-2c14-4c4a-fbfe-29cc8ab71614"
      },
      "source": [
        "df.drop_duplicates(subset= ['state', 'region']).head()"
      ],
      "execution_count": 61,
      "outputs": [
        {
          "output_type": "execute_result",
          "data": {
            "text/html": [
              "<div>\n",
              "<style scoped>\n",
              "    .dataframe tbody tr th:only-of-type {\n",
              "        vertical-align: middle;\n",
              "    }\n",
              "\n",
              "    .dataframe tbody tr th {\n",
              "        vertical-align: top;\n",
              "    }\n",
              "\n",
              "    .dataframe thead th {\n",
              "        text-align: right;\n",
              "    }\n",
              "</style>\n",
              "<table border=\"1\" class=\"dataframe\">\n",
              "  <thead>\n",
              "    <tr style=\"text-align: right;\">\n",
              "      <th></th>\n",
              "      <th>region</th>\n",
              "      <th>state</th>\n",
              "      <th>individuals</th>\n",
              "      <th>family_members</th>\n",
              "      <th>state_pop</th>\n",
              "      <th>state_pop_1000</th>\n",
              "    </tr>\n",
              "  </thead>\n",
              "  <tbody>\n",
              "    <tr>\n",
              "      <th>0</th>\n",
              "      <td>East South Central</td>\n",
              "      <td>Alabama</td>\n",
              "      <td>2570.0</td>\n",
              "      <td>864.0</td>\n",
              "      <td>4887681</td>\n",
              "      <td>4887.681</td>\n",
              "    </tr>\n",
              "    <tr>\n",
              "      <th>1</th>\n",
              "      <td>Pacific</td>\n",
              "      <td>Alaska</td>\n",
              "      <td>1434.0</td>\n",
              "      <td>582.0</td>\n",
              "      <td>735139</td>\n",
              "      <td>735.139</td>\n",
              "    </tr>\n",
              "    <tr>\n",
              "      <th>2</th>\n",
              "      <td>Mountain</td>\n",
              "      <td>Arizona</td>\n",
              "      <td>7259.0</td>\n",
              "      <td>2606.0</td>\n",
              "      <td>7158024</td>\n",
              "      <td>7158.024</td>\n",
              "    </tr>\n",
              "    <tr>\n",
              "      <th>3</th>\n",
              "      <td>West South Central</td>\n",
              "      <td>Arkansas</td>\n",
              "      <td>2280.0</td>\n",
              "      <td>432.0</td>\n",
              "      <td>3009733</td>\n",
              "      <td>3009.733</td>\n",
              "    </tr>\n",
              "    <tr>\n",
              "      <th>4</th>\n",
              "      <td>Pacific</td>\n",
              "      <td>California</td>\n",
              "      <td>109008.0</td>\n",
              "      <td>20964.0</td>\n",
              "      <td>39461588</td>\n",
              "      <td>39461.588</td>\n",
              "    </tr>\n",
              "  </tbody>\n",
              "</table>\n",
              "</div>"
            ],
            "text/plain": [
              "               region       state  ...  state_pop  state_pop_1000\n",
              "0  East South Central     Alabama  ...    4887681        4887.681\n",
              "1             Pacific      Alaska  ...     735139         735.139\n",
              "2            Mountain     Arizona  ...    7158024        7158.024\n",
              "3  West South Central    Arkansas  ...    3009733        3009.733\n",
              "4             Pacific  California  ...   39461588       39461.588\n",
              "\n",
              "[5 rows x 6 columns]"
            ]
          },
          "metadata": {},
          "execution_count": 61
        }
      ]
    },
    {
      "cell_type": "code",
      "metadata": {
        "colab": {
          "base_uri": "https://localhost:8080/"
        },
        "id": "YFidxVuYgdF-",
        "outputId": "95b4944f-6355-4788-80e9-94f3cf4a3354"
      },
      "source": [
        "df['region'].value_counts()"
      ],
      "execution_count": 62,
      "outputs": [
        {
          "output_type": "execute_result",
          "data": {
            "text/plain": [
              "South Atlantic        9\n",
              "Mountain              8\n",
              "West North Central    7\n",
              "New England           6\n",
              "Pacific               5\n",
              "East North Central    5\n",
              "West South Central    4\n",
              "East South Central    4\n",
              "Mid-Atlantic          3\n",
              "Name: region, dtype: int64"
            ]
          },
          "metadata": {},
          "execution_count": 62
        }
      ]
    },
    {
      "cell_type": "code",
      "metadata": {
        "colab": {
          "base_uri": "https://localhost:8080/"
        },
        "id": "Iowb3FClg20N",
        "outputId": "3523ffce-381e-4c17-af2a-a1d76aa3944c"
      },
      "source": [
        "df['region'].value_counts(ascending = True, normalize= True)"
      ],
      "execution_count": 72,
      "outputs": [
        {
          "output_type": "execute_result",
          "data": {
            "text/plain": [
              "Mid-Atlantic          0.058824\n",
              "East South Central    0.078431\n",
              "West South Central    0.078431\n",
              "East North Central    0.098039\n",
              "Pacific               0.098039\n",
              "New England           0.117647\n",
              "West North Central    0.137255\n",
              "Mountain              0.156863\n",
              "South Atlantic        0.176471\n",
              "Name: region, dtype: float64"
            ]
          },
          "metadata": {},
          "execution_count": 72
        }
      ]
    },
    {
      "cell_type": "markdown",
      "metadata": {
        "id": "tIpJv11_SUP3"
      },
      "source": [
        "# 6. Grouped summary statistics"
      ]
    },
    {
      "cell_type": "code",
      "metadata": {
        "colab": {
          "base_uri": "https://localhost:8080/"
        },
        "id": "LQ7FeemKh46r",
        "outputId": "52710837-9de2-4a5a-85fe-427c94d63ed0"
      },
      "source": [
        "df.groupby('region')['individuals'].mean()"
      ],
      "execution_count": 74,
      "outputs": [
        {
          "output_type": "execute_result",
          "data": {
            "text/plain": [
              "region\n",
              "East North Central     5081.200000\n",
              "East South Central     3117.000000\n",
              "Mid-Atlantic          18012.666667\n",
              "Mountain               3561.375000\n",
              "New England            2150.500000\n",
              "Pacific               28427.200000\n",
              "South Atlantic         5806.666667\n",
              "West North Central     1995.857143\n",
              "West South Central     6710.500000\n",
              "Name: individuals, dtype: float64"
            ]
          },
          "metadata": {},
          "execution_count": 74
        }
      ]
    },
    {
      "cell_type": "code",
      "metadata": {
        "colab": {
          "base_uri": "https://localhost:8080/",
          "height": 363
        },
        "id": "zA1xfhpeiGH7",
        "outputId": "12cc69b4-1319-406e-bd3f-b3d6ef4658d7"
      },
      "source": [
        "df.groupby('region')['individuals'].agg([min, max, np.mean, sum])"
      ],
      "execution_count": 80,
      "outputs": [
        {
          "output_type": "execute_result",
          "data": {
            "text/html": [
              "<div>\n",
              "<style scoped>\n",
              "    .dataframe tbody tr th:only-of-type {\n",
              "        vertical-align: middle;\n",
              "    }\n",
              "\n",
              "    .dataframe tbody tr th {\n",
              "        vertical-align: top;\n",
              "    }\n",
              "\n",
              "    .dataframe thead th {\n",
              "        text-align: right;\n",
              "    }\n",
              "</style>\n",
              "<table border=\"1\" class=\"dataframe\">\n",
              "  <thead>\n",
              "    <tr style=\"text-align: right;\">\n",
              "      <th></th>\n",
              "      <th>min</th>\n",
              "      <th>max</th>\n",
              "      <th>mean</th>\n",
              "      <th>sum</th>\n",
              "    </tr>\n",
              "    <tr>\n",
              "      <th>region</th>\n",
              "      <th></th>\n",
              "      <th></th>\n",
              "      <th></th>\n",
              "      <th></th>\n",
              "    </tr>\n",
              "  </thead>\n",
              "  <tbody>\n",
              "    <tr>\n",
              "      <th>East North Central</th>\n",
              "      <td>2740.0</td>\n",
              "      <td>6929.0</td>\n",
              "      <td>5081.200000</td>\n",
              "      <td>25406.0</td>\n",
              "    </tr>\n",
              "    <tr>\n",
              "      <th>East South Central</th>\n",
              "      <td>1024.0</td>\n",
              "      <td>6139.0</td>\n",
              "      <td>3117.000000</td>\n",
              "      <td>12468.0</td>\n",
              "    </tr>\n",
              "    <tr>\n",
              "      <th>Mid-Atlantic</th>\n",
              "      <td>6048.0</td>\n",
              "      <td>39827.0</td>\n",
              "      <td>18012.666667</td>\n",
              "      <td>54038.0</td>\n",
              "    </tr>\n",
              "    <tr>\n",
              "      <th>Mountain</th>\n",
              "      <td>434.0</td>\n",
              "      <td>7607.0</td>\n",
              "      <td>3561.375000</td>\n",
              "      <td>28491.0</td>\n",
              "    </tr>\n",
              "    <tr>\n",
              "      <th>New England</th>\n",
              "      <td>747.0</td>\n",
              "      <td>6811.0</td>\n",
              "      <td>2150.500000</td>\n",
              "      <td>12903.0</td>\n",
              "    </tr>\n",
              "    <tr>\n",
              "      <th>Pacific</th>\n",
              "      <td>1434.0</td>\n",
              "      <td>109008.0</td>\n",
              "      <td>28427.200000</td>\n",
              "      <td>142136.0</td>\n",
              "    </tr>\n",
              "    <tr>\n",
              "      <th>South Atlantic</th>\n",
              "      <td>708.0</td>\n",
              "      <td>21443.0</td>\n",
              "      <td>5806.666667</td>\n",
              "      <td>52260.0</td>\n",
              "    </tr>\n",
              "    <tr>\n",
              "      <th>West North Central</th>\n",
              "      <td>467.0</td>\n",
              "      <td>3993.0</td>\n",
              "      <td>1995.857143</td>\n",
              "      <td>13971.0</td>\n",
              "    </tr>\n",
              "    <tr>\n",
              "      <th>West South Central</th>\n",
              "      <td>2280.0</td>\n",
              "      <td>19199.0</td>\n",
              "      <td>6710.500000</td>\n",
              "      <td>26842.0</td>\n",
              "    </tr>\n",
              "  </tbody>\n",
              "</table>\n",
              "</div>"
            ],
            "text/plain": [
              "                       min       max          mean       sum\n",
              "region                                                      \n",
              "East North Central  2740.0    6929.0   5081.200000   25406.0\n",
              "East South Central  1024.0    6139.0   3117.000000   12468.0\n",
              "Mid-Atlantic        6048.0   39827.0  18012.666667   54038.0\n",
              "Mountain             434.0    7607.0   3561.375000   28491.0\n",
              "New England          747.0    6811.0   2150.500000   12903.0\n",
              "Pacific             1434.0  109008.0  28427.200000  142136.0\n",
              "South Atlantic       708.0   21443.0   5806.666667   52260.0\n",
              "West North Central   467.0    3993.0   1995.857143   13971.0\n",
              "West South Central  2280.0   19199.0   6710.500000   26842.0"
            ]
          },
          "metadata": {},
          "execution_count": 80
        }
      ]
    },
    {
      "cell_type": "code",
      "metadata": {
        "colab": {
          "base_uri": "https://localhost:8080/"
        },
        "id": "pf1-Gxh-iMtr",
        "outputId": "3b2ae677-2291-4a1f-e3d6-f0497b5f5662"
      },
      "source": [
        "df.groupby(['region', 'state'])['individuals'].mean().head(10)"
      ],
      "execution_count": 83,
      "outputs": [
        {
          "output_type": "execute_result",
          "data": {
            "text/plain": [
              "region              state      \n",
              "East North Central  Illinois       6752.0\n",
              "                    Indiana        3776.0\n",
              "                    Michigan       5209.0\n",
              "                    Ohio           6929.0\n",
              "                    Wisconsin      2740.0\n",
              "East South Central  Alabama        2570.0\n",
              "                    Kentucky       2735.0\n",
              "                    Mississippi    1024.0\n",
              "                    Tennessee      6139.0\n",
              "Mid-Atlantic        New Jersey     6048.0\n",
              "Name: individuals, dtype: float64"
            ]
          },
          "metadata": {},
          "execution_count": 83
        }
      ]
    },
    {
      "cell_type": "code",
      "metadata": {
        "colab": {
          "base_uri": "https://localhost:8080/",
          "height": 482
        },
        "id": "4OvbrhwWikaD",
        "outputId": "0b67e24c-b3e2-450c-d27f-c82372557ff8"
      },
      "source": [
        "df.groupby(['region', 'state'])['individuals', 'family_members'].agg([max, min, np.mean]).head(10)"
      ],
      "execution_count": 87,
      "outputs": [
        {
          "output_type": "stream",
          "name": "stderr",
          "text": [
            "/usr/local/lib/python3.7/dist-packages/ipykernel_launcher.py:1: FutureWarning: Indexing with multiple keys (implicitly converted to a tuple of keys) will be deprecated, use a list instead.\n",
            "  \"\"\"Entry point for launching an IPython kernel.\n"
          ]
        },
        {
          "output_type": "execute_result",
          "data": {
            "text/html": [
              "<div>\n",
              "<style scoped>\n",
              "    .dataframe tbody tr th:only-of-type {\n",
              "        vertical-align: middle;\n",
              "    }\n",
              "\n",
              "    .dataframe tbody tr th {\n",
              "        vertical-align: top;\n",
              "    }\n",
              "\n",
              "    .dataframe thead tr th {\n",
              "        text-align: left;\n",
              "    }\n",
              "\n",
              "    .dataframe thead tr:last-of-type th {\n",
              "        text-align: right;\n",
              "    }\n",
              "</style>\n",
              "<table border=\"1\" class=\"dataframe\">\n",
              "  <thead>\n",
              "    <tr>\n",
              "      <th></th>\n",
              "      <th></th>\n",
              "      <th colspan=\"3\" halign=\"left\">individuals</th>\n",
              "      <th colspan=\"3\" halign=\"left\">family_members</th>\n",
              "    </tr>\n",
              "    <tr>\n",
              "      <th></th>\n",
              "      <th></th>\n",
              "      <th>max</th>\n",
              "      <th>min</th>\n",
              "      <th>mean</th>\n",
              "      <th>max</th>\n",
              "      <th>min</th>\n",
              "      <th>mean</th>\n",
              "    </tr>\n",
              "    <tr>\n",
              "      <th>region</th>\n",
              "      <th>state</th>\n",
              "      <th></th>\n",
              "      <th></th>\n",
              "      <th></th>\n",
              "      <th></th>\n",
              "      <th></th>\n",
              "      <th></th>\n",
              "    </tr>\n",
              "  </thead>\n",
              "  <tbody>\n",
              "    <tr>\n",
              "      <th rowspan=\"5\" valign=\"top\">East North Central</th>\n",
              "      <th>Illinois</th>\n",
              "      <td>6752.0</td>\n",
              "      <td>6752.0</td>\n",
              "      <td>6752.0</td>\n",
              "      <td>3891.0</td>\n",
              "      <td>3891.0</td>\n",
              "      <td>3891.0</td>\n",
              "    </tr>\n",
              "    <tr>\n",
              "      <th>Indiana</th>\n",
              "      <td>3776.0</td>\n",
              "      <td>3776.0</td>\n",
              "      <td>3776.0</td>\n",
              "      <td>1482.0</td>\n",
              "      <td>1482.0</td>\n",
              "      <td>1482.0</td>\n",
              "    </tr>\n",
              "    <tr>\n",
              "      <th>Michigan</th>\n",
              "      <td>5209.0</td>\n",
              "      <td>5209.0</td>\n",
              "      <td>5209.0</td>\n",
              "      <td>3142.0</td>\n",
              "      <td>3142.0</td>\n",
              "      <td>3142.0</td>\n",
              "    </tr>\n",
              "    <tr>\n",
              "      <th>Ohio</th>\n",
              "      <td>6929.0</td>\n",
              "      <td>6929.0</td>\n",
              "      <td>6929.0</td>\n",
              "      <td>3320.0</td>\n",
              "      <td>3320.0</td>\n",
              "      <td>3320.0</td>\n",
              "    </tr>\n",
              "    <tr>\n",
              "      <th>Wisconsin</th>\n",
              "      <td>2740.0</td>\n",
              "      <td>2740.0</td>\n",
              "      <td>2740.0</td>\n",
              "      <td>2167.0</td>\n",
              "      <td>2167.0</td>\n",
              "      <td>2167.0</td>\n",
              "    </tr>\n",
              "    <tr>\n",
              "      <th rowspan=\"4\" valign=\"top\">East South Central</th>\n",
              "      <th>Alabama</th>\n",
              "      <td>2570.0</td>\n",
              "      <td>2570.0</td>\n",
              "      <td>2570.0</td>\n",
              "      <td>864.0</td>\n",
              "      <td>864.0</td>\n",
              "      <td>864.0</td>\n",
              "    </tr>\n",
              "    <tr>\n",
              "      <th>Kentucky</th>\n",
              "      <td>2735.0</td>\n",
              "      <td>2735.0</td>\n",
              "      <td>2735.0</td>\n",
              "      <td>953.0</td>\n",
              "      <td>953.0</td>\n",
              "      <td>953.0</td>\n",
              "    </tr>\n",
              "    <tr>\n",
              "      <th>Mississippi</th>\n",
              "      <td>1024.0</td>\n",
              "      <td>1024.0</td>\n",
              "      <td>1024.0</td>\n",
              "      <td>328.0</td>\n",
              "      <td>328.0</td>\n",
              "      <td>328.0</td>\n",
              "    </tr>\n",
              "    <tr>\n",
              "      <th>Tennessee</th>\n",
              "      <td>6139.0</td>\n",
              "      <td>6139.0</td>\n",
              "      <td>6139.0</td>\n",
              "      <td>1744.0</td>\n",
              "      <td>1744.0</td>\n",
              "      <td>1744.0</td>\n",
              "    </tr>\n",
              "    <tr>\n",
              "      <th>Mid-Atlantic</th>\n",
              "      <th>New Jersey</th>\n",
              "      <td>6048.0</td>\n",
              "      <td>6048.0</td>\n",
              "      <td>6048.0</td>\n",
              "      <td>3350.0</td>\n",
              "      <td>3350.0</td>\n",
              "      <td>3350.0</td>\n",
              "    </tr>\n",
              "  </tbody>\n",
              "</table>\n",
              "</div>"
            ],
            "text/plain": [
              "                               individuals          ... family_members        \n",
              "                                       max     min  ...            min    mean\n",
              "region             state                            ...                       \n",
              "East North Central Illinois         6752.0  6752.0  ...         3891.0  3891.0\n",
              "                   Indiana          3776.0  3776.0  ...         1482.0  1482.0\n",
              "                   Michigan         5209.0  5209.0  ...         3142.0  3142.0\n",
              "                   Ohio             6929.0  6929.0  ...         3320.0  3320.0\n",
              "                   Wisconsin        2740.0  2740.0  ...         2167.0  2167.0\n",
              "East South Central Alabama          2570.0  2570.0  ...          864.0   864.0\n",
              "                   Kentucky         2735.0  2735.0  ...          953.0   953.0\n",
              "                   Mississippi      1024.0  1024.0  ...          328.0   328.0\n",
              "                   Tennessee        6139.0  6139.0  ...         1744.0  1744.0\n",
              "Mid-Atlantic       New Jersey       6048.0  6048.0  ...         3350.0  3350.0\n",
              "\n",
              "[10 rows x 6 columns]"
            ]
          },
          "metadata": {},
          "execution_count": 87
        }
      ]
    },
    {
      "cell_type": "markdown",
      "metadata": {
        "id": "M2la6bcGS6KQ"
      },
      "source": [
        "# 7.Pivot tables"
      ]
    },
    {
      "cell_type": "code",
      "metadata": {
        "colab": {
          "base_uri": "https://localhost:8080/"
        },
        "id": "jKPevny1iv3y",
        "outputId": "55beb62f-a48c-4ef2-f3c6-b67e54c007a1"
      },
      "source": [
        "df.groupby('region')['individuals'].mean()"
      ],
      "execution_count": 7,
      "outputs": [
        {
          "output_type": "execute_result",
          "data": {
            "text/plain": [
              "region\n",
              "East North Central     5081.200000\n",
              "East South Central     3117.000000\n",
              "Mid-Atlantic          18012.666667\n",
              "Mountain               3561.375000\n",
              "New England            2150.500000\n",
              "Pacific               28427.200000\n",
              "South Atlantic         5806.666667\n",
              "West North Central     1995.857143\n",
              "West South Central     6710.500000\n",
              "Name: individuals, dtype: float64"
            ]
          },
          "metadata": {},
          "execution_count": 7
        }
      ]
    },
    {
      "cell_type": "code",
      "metadata": {
        "colab": {
          "base_uri": "https://localhost:8080/",
          "height": 363
        },
        "id": "mCU_IHv5TJZN",
        "outputId": "5b26c1ed-73a0-44b0-f568-75690e40d059"
      },
      "source": [
        "df.pivot_table(values= 'individuals', index= 'region')"
      ],
      "execution_count": 8,
      "outputs": [
        {
          "output_type": "execute_result",
          "data": {
            "text/html": [
              "<div>\n",
              "<style scoped>\n",
              "    .dataframe tbody tr th:only-of-type {\n",
              "        vertical-align: middle;\n",
              "    }\n",
              "\n",
              "    .dataframe tbody tr th {\n",
              "        vertical-align: top;\n",
              "    }\n",
              "\n",
              "    .dataframe thead th {\n",
              "        text-align: right;\n",
              "    }\n",
              "</style>\n",
              "<table border=\"1\" class=\"dataframe\">\n",
              "  <thead>\n",
              "    <tr style=\"text-align: right;\">\n",
              "      <th></th>\n",
              "      <th>individuals</th>\n",
              "    </tr>\n",
              "    <tr>\n",
              "      <th>region</th>\n",
              "      <th></th>\n",
              "    </tr>\n",
              "  </thead>\n",
              "  <tbody>\n",
              "    <tr>\n",
              "      <th>East North Central</th>\n",
              "      <td>5081.200000</td>\n",
              "    </tr>\n",
              "    <tr>\n",
              "      <th>East South Central</th>\n",
              "      <td>3117.000000</td>\n",
              "    </tr>\n",
              "    <tr>\n",
              "      <th>Mid-Atlantic</th>\n",
              "      <td>18012.666667</td>\n",
              "    </tr>\n",
              "    <tr>\n",
              "      <th>Mountain</th>\n",
              "      <td>3561.375000</td>\n",
              "    </tr>\n",
              "    <tr>\n",
              "      <th>New England</th>\n",
              "      <td>2150.500000</td>\n",
              "    </tr>\n",
              "    <tr>\n",
              "      <th>Pacific</th>\n",
              "      <td>28427.200000</td>\n",
              "    </tr>\n",
              "    <tr>\n",
              "      <th>South Atlantic</th>\n",
              "      <td>5806.666667</td>\n",
              "    </tr>\n",
              "    <tr>\n",
              "      <th>West North Central</th>\n",
              "      <td>1995.857143</td>\n",
              "    </tr>\n",
              "    <tr>\n",
              "      <th>West South Central</th>\n",
              "      <td>6710.500000</td>\n",
              "    </tr>\n",
              "  </tbody>\n",
              "</table>\n",
              "</div>"
            ],
            "text/plain": [
              "                     individuals\n",
              "region                          \n",
              "East North Central   5081.200000\n",
              "East South Central   3117.000000\n",
              "Mid-Atlantic        18012.666667\n",
              "Mountain             3561.375000\n",
              "New England          2150.500000\n",
              "Pacific             28427.200000\n",
              "South Atlantic       5806.666667\n",
              "West North Central   1995.857143\n",
              "West South Central   6710.500000"
            ]
          },
          "metadata": {},
          "execution_count": 8
        }
      ]
    },
    {
      "cell_type": "code",
      "metadata": {
        "colab": {
          "base_uri": "https://localhost:8080/",
          "height": 394
        },
        "id": "3vghC-0XTc-V",
        "outputId": "fe40dcb0-8fae-432b-fbe9-44f2c5d940d5"
      },
      "source": [
        "df.pivot_table(values= 'individuals', index= 'region', aggfunc= [np.mean, np.median, max, min])"
      ],
      "execution_count": 10,
      "outputs": [
        {
          "output_type": "execute_result",
          "data": {
            "text/html": [
              "<div>\n",
              "<style scoped>\n",
              "    .dataframe tbody tr th:only-of-type {\n",
              "        vertical-align: middle;\n",
              "    }\n",
              "\n",
              "    .dataframe tbody tr th {\n",
              "        vertical-align: top;\n",
              "    }\n",
              "\n",
              "    .dataframe thead tr th {\n",
              "        text-align: left;\n",
              "    }\n",
              "\n",
              "    .dataframe thead tr:last-of-type th {\n",
              "        text-align: right;\n",
              "    }\n",
              "</style>\n",
              "<table border=\"1\" class=\"dataframe\">\n",
              "  <thead>\n",
              "    <tr>\n",
              "      <th></th>\n",
              "      <th>mean</th>\n",
              "      <th>median</th>\n",
              "      <th>max</th>\n",
              "      <th>min</th>\n",
              "    </tr>\n",
              "    <tr>\n",
              "      <th></th>\n",
              "      <th>individuals</th>\n",
              "      <th>individuals</th>\n",
              "      <th>individuals</th>\n",
              "      <th>individuals</th>\n",
              "    </tr>\n",
              "    <tr>\n",
              "      <th>region</th>\n",
              "      <th></th>\n",
              "      <th></th>\n",
              "      <th></th>\n",
              "      <th></th>\n",
              "    </tr>\n",
              "  </thead>\n",
              "  <tbody>\n",
              "    <tr>\n",
              "      <th>East North Central</th>\n",
              "      <td>5081.200000</td>\n",
              "      <td>5209.0</td>\n",
              "      <td>6929.0</td>\n",
              "      <td>2740.0</td>\n",
              "    </tr>\n",
              "    <tr>\n",
              "      <th>East South Central</th>\n",
              "      <td>3117.000000</td>\n",
              "      <td>2652.5</td>\n",
              "      <td>6139.0</td>\n",
              "      <td>1024.0</td>\n",
              "    </tr>\n",
              "    <tr>\n",
              "      <th>Mid-Atlantic</th>\n",
              "      <td>18012.666667</td>\n",
              "      <td>8163.0</td>\n",
              "      <td>39827.0</td>\n",
              "      <td>6048.0</td>\n",
              "    </tr>\n",
              "    <tr>\n",
              "      <th>Mountain</th>\n",
              "      <td>3561.375000</td>\n",
              "      <td>1926.5</td>\n",
              "      <td>7607.0</td>\n",
              "      <td>434.0</td>\n",
              "    </tr>\n",
              "    <tr>\n",
              "      <th>New England</th>\n",
              "      <td>2150.500000</td>\n",
              "      <td>1142.5</td>\n",
              "      <td>6811.0</td>\n",
              "      <td>747.0</td>\n",
              "    </tr>\n",
              "    <tr>\n",
              "      <th>Pacific</th>\n",
              "      <td>28427.200000</td>\n",
              "      <td>11139.0</td>\n",
              "      <td>109008.0</td>\n",
              "      <td>1434.0</td>\n",
              "    </tr>\n",
              "    <tr>\n",
              "      <th>South Atlantic</th>\n",
              "      <td>5806.666667</td>\n",
              "      <td>3928.0</td>\n",
              "      <td>21443.0</td>\n",
              "      <td>708.0</td>\n",
              "    </tr>\n",
              "    <tr>\n",
              "      <th>West North Central</th>\n",
              "      <td>1995.857143</td>\n",
              "      <td>1711.0</td>\n",
              "      <td>3993.0</td>\n",
              "      <td>467.0</td>\n",
              "    </tr>\n",
              "    <tr>\n",
              "      <th>West South Central</th>\n",
              "      <td>6710.500000</td>\n",
              "      <td>2681.5</td>\n",
              "      <td>19199.0</td>\n",
              "      <td>2280.0</td>\n",
              "    </tr>\n",
              "  </tbody>\n",
              "</table>\n",
              "</div>"
            ],
            "text/plain": [
              "                            mean      median         max         min\n",
              "                     individuals individuals individuals individuals\n",
              "region                                                              \n",
              "East North Central   5081.200000      5209.0      6929.0      2740.0\n",
              "East South Central   3117.000000      2652.5      6139.0      1024.0\n",
              "Mid-Atlantic        18012.666667      8163.0     39827.0      6048.0\n",
              "Mountain             3561.375000      1926.5      7607.0       434.0\n",
              "New England          2150.500000      1142.5      6811.0       747.0\n",
              "Pacific             28427.200000     11139.0    109008.0      1434.0\n",
              "South Atlantic       5806.666667      3928.0     21443.0       708.0\n",
              "West North Central   1995.857143      1711.0      3993.0       467.0\n",
              "West South Central   6710.500000      2681.5     19199.0      2280.0"
            ]
          },
          "metadata": {},
          "execution_count": 10
        }
      ]
    },
    {
      "cell_type": "code",
      "metadata": {
        "colab": {
          "base_uri": "https://localhost:8080/",
          "height": 640
        },
        "id": "MjG7hkKwTuob",
        "outputId": "41a37e25-db08-4280-b9f7-93ac14936464"
      },
      "source": [
        "df.pivot_table( values= 'individuals', index= 'region', columns= 'state', fill_value= 0, margins= True)"
      ],
      "execution_count": 13,
      "outputs": [
        {
          "output_type": "execute_result",
          "data": {
            "text/html": [
              "<div>\n",
              "<style scoped>\n",
              "    .dataframe tbody tr th:only-of-type {\n",
              "        vertical-align: middle;\n",
              "    }\n",
              "\n",
              "    .dataframe tbody tr th {\n",
              "        vertical-align: top;\n",
              "    }\n",
              "\n",
              "    .dataframe thead th {\n",
              "        text-align: right;\n",
              "    }\n",
              "</style>\n",
              "<table border=\"1\" class=\"dataframe\">\n",
              "  <thead>\n",
              "    <tr style=\"text-align: right;\">\n",
              "      <th>state</th>\n",
              "      <th>Alabama</th>\n",
              "      <th>Alaska</th>\n",
              "      <th>Arizona</th>\n",
              "      <th>Arkansas</th>\n",
              "      <th>California</th>\n",
              "      <th>Colorado</th>\n",
              "      <th>Connecticut</th>\n",
              "      <th>Delaware</th>\n",
              "      <th>District of Columbia</th>\n",
              "      <th>Florida</th>\n",
              "      <th>Georgia</th>\n",
              "      <th>Hawaii</th>\n",
              "      <th>Idaho</th>\n",
              "      <th>Illinois</th>\n",
              "      <th>Indiana</th>\n",
              "      <th>Iowa</th>\n",
              "      <th>Kansas</th>\n",
              "      <th>Kentucky</th>\n",
              "      <th>Louisiana</th>\n",
              "      <th>Maine</th>\n",
              "      <th>Maryland</th>\n",
              "      <th>Massachusetts</th>\n",
              "      <th>Michigan</th>\n",
              "      <th>Minnesota</th>\n",
              "      <th>Mississippi</th>\n",
              "      <th>Missouri</th>\n",
              "      <th>Montana</th>\n",
              "      <th>Nebraska</th>\n",
              "      <th>Nevada</th>\n",
              "      <th>New Hampshire</th>\n",
              "      <th>New Jersey</th>\n",
              "      <th>New Mexico</th>\n",
              "      <th>New York</th>\n",
              "      <th>North Carolina</th>\n",
              "      <th>North Dakota</th>\n",
              "      <th>Ohio</th>\n",
              "      <th>Oklahoma</th>\n",
              "      <th>Oregon</th>\n",
              "      <th>Pennsylvania</th>\n",
              "      <th>Rhode Island</th>\n",
              "      <th>South Carolina</th>\n",
              "      <th>South Dakota</th>\n",
              "      <th>Tennessee</th>\n",
              "      <th>Texas</th>\n",
              "      <th>Utah</th>\n",
              "      <th>Vermont</th>\n",
              "      <th>Virginia</th>\n",
              "      <th>Washington</th>\n",
              "      <th>West Virginia</th>\n",
              "      <th>Wisconsin</th>\n",
              "      <th>Wyoming</th>\n",
              "      <th>All</th>\n",
              "    </tr>\n",
              "    <tr>\n",
              "      <th>region</th>\n",
              "      <th></th>\n",
              "      <th></th>\n",
              "      <th></th>\n",
              "      <th></th>\n",
              "      <th></th>\n",
              "      <th></th>\n",
              "      <th></th>\n",
              "      <th></th>\n",
              "      <th></th>\n",
              "      <th></th>\n",
              "      <th></th>\n",
              "      <th></th>\n",
              "      <th></th>\n",
              "      <th></th>\n",
              "      <th></th>\n",
              "      <th></th>\n",
              "      <th></th>\n",
              "      <th></th>\n",
              "      <th></th>\n",
              "      <th></th>\n",
              "      <th></th>\n",
              "      <th></th>\n",
              "      <th></th>\n",
              "      <th></th>\n",
              "      <th></th>\n",
              "      <th></th>\n",
              "      <th></th>\n",
              "      <th></th>\n",
              "      <th></th>\n",
              "      <th></th>\n",
              "      <th></th>\n",
              "      <th></th>\n",
              "      <th></th>\n",
              "      <th></th>\n",
              "      <th></th>\n",
              "      <th></th>\n",
              "      <th></th>\n",
              "      <th></th>\n",
              "      <th></th>\n",
              "      <th></th>\n",
              "      <th></th>\n",
              "      <th></th>\n",
              "      <th></th>\n",
              "      <th></th>\n",
              "      <th></th>\n",
              "      <th></th>\n",
              "      <th></th>\n",
              "      <th></th>\n",
              "      <th></th>\n",
              "      <th></th>\n",
              "      <th></th>\n",
              "      <th></th>\n",
              "    </tr>\n",
              "  </thead>\n",
              "  <tbody>\n",
              "    <tr>\n",
              "      <th>East North Central</th>\n",
              "      <td>0</td>\n",
              "      <td>0</td>\n",
              "      <td>0</td>\n",
              "      <td>0</td>\n",
              "      <td>0</td>\n",
              "      <td>0</td>\n",
              "      <td>0</td>\n",
              "      <td>0</td>\n",
              "      <td>0</td>\n",
              "      <td>0</td>\n",
              "      <td>0</td>\n",
              "      <td>0</td>\n",
              "      <td>0</td>\n",
              "      <td>6752</td>\n",
              "      <td>3776</td>\n",
              "      <td>0</td>\n",
              "      <td>0</td>\n",
              "      <td>0</td>\n",
              "      <td>0</td>\n",
              "      <td>0</td>\n",
              "      <td>0</td>\n",
              "      <td>0</td>\n",
              "      <td>5209</td>\n",
              "      <td>0</td>\n",
              "      <td>0</td>\n",
              "      <td>0</td>\n",
              "      <td>0</td>\n",
              "      <td>0</td>\n",
              "      <td>0</td>\n",
              "      <td>0</td>\n",
              "      <td>0</td>\n",
              "      <td>0</td>\n",
              "      <td>0</td>\n",
              "      <td>0</td>\n",
              "      <td>0</td>\n",
              "      <td>6929</td>\n",
              "      <td>0</td>\n",
              "      <td>0</td>\n",
              "      <td>0</td>\n",
              "      <td>0</td>\n",
              "      <td>0</td>\n",
              "      <td>0</td>\n",
              "      <td>0</td>\n",
              "      <td>0</td>\n",
              "      <td>0</td>\n",
              "      <td>0</td>\n",
              "      <td>0</td>\n",
              "      <td>0</td>\n",
              "      <td>0</td>\n",
              "      <td>2740</td>\n",
              "      <td>0</td>\n",
              "      <td>5081.200000</td>\n",
              "    </tr>\n",
              "    <tr>\n",
              "      <th>East South Central</th>\n",
              "      <td>2570</td>\n",
              "      <td>0</td>\n",
              "      <td>0</td>\n",
              "      <td>0</td>\n",
              "      <td>0</td>\n",
              "      <td>0</td>\n",
              "      <td>0</td>\n",
              "      <td>0</td>\n",
              "      <td>0</td>\n",
              "      <td>0</td>\n",
              "      <td>0</td>\n",
              "      <td>0</td>\n",
              "      <td>0</td>\n",
              "      <td>0</td>\n",
              "      <td>0</td>\n",
              "      <td>0</td>\n",
              "      <td>0</td>\n",
              "      <td>2735</td>\n",
              "      <td>0</td>\n",
              "      <td>0</td>\n",
              "      <td>0</td>\n",
              "      <td>0</td>\n",
              "      <td>0</td>\n",
              "      <td>0</td>\n",
              "      <td>1024</td>\n",
              "      <td>0</td>\n",
              "      <td>0</td>\n",
              "      <td>0</td>\n",
              "      <td>0</td>\n",
              "      <td>0</td>\n",
              "      <td>0</td>\n",
              "      <td>0</td>\n",
              "      <td>0</td>\n",
              "      <td>0</td>\n",
              "      <td>0</td>\n",
              "      <td>0</td>\n",
              "      <td>0</td>\n",
              "      <td>0</td>\n",
              "      <td>0</td>\n",
              "      <td>0</td>\n",
              "      <td>0</td>\n",
              "      <td>0</td>\n",
              "      <td>6139</td>\n",
              "      <td>0</td>\n",
              "      <td>0</td>\n",
              "      <td>0</td>\n",
              "      <td>0</td>\n",
              "      <td>0</td>\n",
              "      <td>0</td>\n",
              "      <td>0</td>\n",
              "      <td>0</td>\n",
              "      <td>3117.000000</td>\n",
              "    </tr>\n",
              "    <tr>\n",
              "      <th>Mid-Atlantic</th>\n",
              "      <td>0</td>\n",
              "      <td>0</td>\n",
              "      <td>0</td>\n",
              "      <td>0</td>\n",
              "      <td>0</td>\n",
              "      <td>0</td>\n",
              "      <td>0</td>\n",
              "      <td>0</td>\n",
              "      <td>0</td>\n",
              "      <td>0</td>\n",
              "      <td>0</td>\n",
              "      <td>0</td>\n",
              "      <td>0</td>\n",
              "      <td>0</td>\n",
              "      <td>0</td>\n",
              "      <td>0</td>\n",
              "      <td>0</td>\n",
              "      <td>0</td>\n",
              "      <td>0</td>\n",
              "      <td>0</td>\n",
              "      <td>0</td>\n",
              "      <td>0</td>\n",
              "      <td>0</td>\n",
              "      <td>0</td>\n",
              "      <td>0</td>\n",
              "      <td>0</td>\n",
              "      <td>0</td>\n",
              "      <td>0</td>\n",
              "      <td>0</td>\n",
              "      <td>0</td>\n",
              "      <td>6048</td>\n",
              "      <td>0</td>\n",
              "      <td>39827</td>\n",
              "      <td>0</td>\n",
              "      <td>0</td>\n",
              "      <td>0</td>\n",
              "      <td>0</td>\n",
              "      <td>0</td>\n",
              "      <td>8163</td>\n",
              "      <td>0</td>\n",
              "      <td>0</td>\n",
              "      <td>0</td>\n",
              "      <td>0</td>\n",
              "      <td>0</td>\n",
              "      <td>0</td>\n",
              "      <td>0</td>\n",
              "      <td>0</td>\n",
              "      <td>0</td>\n",
              "      <td>0</td>\n",
              "      <td>0</td>\n",
              "      <td>0</td>\n",
              "      <td>18012.666667</td>\n",
              "    </tr>\n",
              "    <tr>\n",
              "      <th>Mountain</th>\n",
              "      <td>0</td>\n",
              "      <td>0</td>\n",
              "      <td>7259</td>\n",
              "      <td>0</td>\n",
              "      <td>0</td>\n",
              "      <td>7607</td>\n",
              "      <td>0</td>\n",
              "      <td>0</td>\n",
              "      <td>0</td>\n",
              "      <td>0</td>\n",
              "      <td>0</td>\n",
              "      <td>0</td>\n",
              "      <td>1297</td>\n",
              "      <td>0</td>\n",
              "      <td>0</td>\n",
              "      <td>0</td>\n",
              "      <td>0</td>\n",
              "      <td>0</td>\n",
              "      <td>0</td>\n",
              "      <td>0</td>\n",
              "      <td>0</td>\n",
              "      <td>0</td>\n",
              "      <td>0</td>\n",
              "      <td>0</td>\n",
              "      <td>0</td>\n",
              "      <td>0</td>\n",
              "      <td>983</td>\n",
              "      <td>0</td>\n",
              "      <td>7058</td>\n",
              "      <td>0</td>\n",
              "      <td>0</td>\n",
              "      <td>1949</td>\n",
              "      <td>0</td>\n",
              "      <td>0</td>\n",
              "      <td>0</td>\n",
              "      <td>0</td>\n",
              "      <td>0</td>\n",
              "      <td>0</td>\n",
              "      <td>0</td>\n",
              "      <td>0</td>\n",
              "      <td>0</td>\n",
              "      <td>0</td>\n",
              "      <td>0</td>\n",
              "      <td>0</td>\n",
              "      <td>1904</td>\n",
              "      <td>0</td>\n",
              "      <td>0</td>\n",
              "      <td>0</td>\n",
              "      <td>0</td>\n",
              "      <td>0</td>\n",
              "      <td>434</td>\n",
              "      <td>3561.375000</td>\n",
              "    </tr>\n",
              "    <tr>\n",
              "      <th>New England</th>\n",
              "      <td>0</td>\n",
              "      <td>0</td>\n",
              "      <td>0</td>\n",
              "      <td>0</td>\n",
              "      <td>0</td>\n",
              "      <td>0</td>\n",
              "      <td>2280</td>\n",
              "      <td>0</td>\n",
              "      <td>0</td>\n",
              "      <td>0</td>\n",
              "      <td>0</td>\n",
              "      <td>0</td>\n",
              "      <td>0</td>\n",
              "      <td>0</td>\n",
              "      <td>0</td>\n",
              "      <td>0</td>\n",
              "      <td>0</td>\n",
              "      <td>0</td>\n",
              "      <td>0</td>\n",
              "      <td>1450</td>\n",
              "      <td>0</td>\n",
              "      <td>6811</td>\n",
              "      <td>0</td>\n",
              "      <td>0</td>\n",
              "      <td>0</td>\n",
              "      <td>0</td>\n",
              "      <td>0</td>\n",
              "      <td>0</td>\n",
              "      <td>0</td>\n",
              "      <td>835</td>\n",
              "      <td>0</td>\n",
              "      <td>0</td>\n",
              "      <td>0</td>\n",
              "      <td>0</td>\n",
              "      <td>0</td>\n",
              "      <td>0</td>\n",
              "      <td>0</td>\n",
              "      <td>0</td>\n",
              "      <td>0</td>\n",
              "      <td>747</td>\n",
              "      <td>0</td>\n",
              "      <td>0</td>\n",
              "      <td>0</td>\n",
              "      <td>0</td>\n",
              "      <td>0</td>\n",
              "      <td>780</td>\n",
              "      <td>0</td>\n",
              "      <td>0</td>\n",
              "      <td>0</td>\n",
              "      <td>0</td>\n",
              "      <td>0</td>\n",
              "      <td>2150.500000</td>\n",
              "    </tr>\n",
              "    <tr>\n",
              "      <th>Pacific</th>\n",
              "      <td>0</td>\n",
              "      <td>1434</td>\n",
              "      <td>0</td>\n",
              "      <td>0</td>\n",
              "      <td>109008</td>\n",
              "      <td>0</td>\n",
              "      <td>0</td>\n",
              "      <td>0</td>\n",
              "      <td>0</td>\n",
              "      <td>0</td>\n",
              "      <td>0</td>\n",
              "      <td>4131</td>\n",
              "      <td>0</td>\n",
              "      <td>0</td>\n",
              "      <td>0</td>\n",
              "      <td>0</td>\n",
              "      <td>0</td>\n",
              "      <td>0</td>\n",
              "      <td>0</td>\n",
              "      <td>0</td>\n",
              "      <td>0</td>\n",
              "      <td>0</td>\n",
              "      <td>0</td>\n",
              "      <td>0</td>\n",
              "      <td>0</td>\n",
              "      <td>0</td>\n",
              "      <td>0</td>\n",
              "      <td>0</td>\n",
              "      <td>0</td>\n",
              "      <td>0</td>\n",
              "      <td>0</td>\n",
              "      <td>0</td>\n",
              "      <td>0</td>\n",
              "      <td>0</td>\n",
              "      <td>0</td>\n",
              "      <td>0</td>\n",
              "      <td>0</td>\n",
              "      <td>11139</td>\n",
              "      <td>0</td>\n",
              "      <td>0</td>\n",
              "      <td>0</td>\n",
              "      <td>0</td>\n",
              "      <td>0</td>\n",
              "      <td>0</td>\n",
              "      <td>0</td>\n",
              "      <td>0</td>\n",
              "      <td>0</td>\n",
              "      <td>16424</td>\n",
              "      <td>0</td>\n",
              "      <td>0</td>\n",
              "      <td>0</td>\n",
              "      <td>28427.200000</td>\n",
              "    </tr>\n",
              "    <tr>\n",
              "      <th>South Atlantic</th>\n",
              "      <td>0</td>\n",
              "      <td>0</td>\n",
              "      <td>0</td>\n",
              "      <td>0</td>\n",
              "      <td>0</td>\n",
              "      <td>0</td>\n",
              "      <td>0</td>\n",
              "      <td>708</td>\n",
              "      <td>3770</td>\n",
              "      <td>21443</td>\n",
              "      <td>6943</td>\n",
              "      <td>0</td>\n",
              "      <td>0</td>\n",
              "      <td>0</td>\n",
              "      <td>0</td>\n",
              "      <td>0</td>\n",
              "      <td>0</td>\n",
              "      <td>0</td>\n",
              "      <td>0</td>\n",
              "      <td>0</td>\n",
              "      <td>4914</td>\n",
              "      <td>0</td>\n",
              "      <td>0</td>\n",
              "      <td>0</td>\n",
              "      <td>0</td>\n",
              "      <td>0</td>\n",
              "      <td>0</td>\n",
              "      <td>0</td>\n",
              "      <td>0</td>\n",
              "      <td>0</td>\n",
              "      <td>0</td>\n",
              "      <td>0</td>\n",
              "      <td>0</td>\n",
              "      <td>6451</td>\n",
              "      <td>0</td>\n",
              "      <td>0</td>\n",
              "      <td>0</td>\n",
              "      <td>0</td>\n",
              "      <td>0</td>\n",
              "      <td>0</td>\n",
              "      <td>3082</td>\n",
              "      <td>0</td>\n",
              "      <td>0</td>\n",
              "      <td>0</td>\n",
              "      <td>0</td>\n",
              "      <td>0</td>\n",
              "      <td>3928</td>\n",
              "      <td>0</td>\n",
              "      <td>1021</td>\n",
              "      <td>0</td>\n",
              "      <td>0</td>\n",
              "      <td>5806.666667</td>\n",
              "    </tr>\n",
              "    <tr>\n",
              "      <th>West North Central</th>\n",
              "      <td>0</td>\n",
              "      <td>0</td>\n",
              "      <td>0</td>\n",
              "      <td>0</td>\n",
              "      <td>0</td>\n",
              "      <td>0</td>\n",
              "      <td>0</td>\n",
              "      <td>0</td>\n",
              "      <td>0</td>\n",
              "      <td>0</td>\n",
              "      <td>0</td>\n",
              "      <td>0</td>\n",
              "      <td>0</td>\n",
              "      <td>0</td>\n",
              "      <td>0</td>\n",
              "      <td>1711</td>\n",
              "      <td>1443</td>\n",
              "      <td>0</td>\n",
              "      <td>0</td>\n",
              "      <td>0</td>\n",
              "      <td>0</td>\n",
              "      <td>0</td>\n",
              "      <td>0</td>\n",
              "      <td>3993</td>\n",
              "      <td>0</td>\n",
              "      <td>3776</td>\n",
              "      <td>0</td>\n",
              "      <td>1745</td>\n",
              "      <td>0</td>\n",
              "      <td>0</td>\n",
              "      <td>0</td>\n",
              "      <td>0</td>\n",
              "      <td>0</td>\n",
              "      <td>0</td>\n",
              "      <td>467</td>\n",
              "      <td>0</td>\n",
              "      <td>0</td>\n",
              "      <td>0</td>\n",
              "      <td>0</td>\n",
              "      <td>0</td>\n",
              "      <td>0</td>\n",
              "      <td>836</td>\n",
              "      <td>0</td>\n",
              "      <td>0</td>\n",
              "      <td>0</td>\n",
              "      <td>0</td>\n",
              "      <td>0</td>\n",
              "      <td>0</td>\n",
              "      <td>0</td>\n",
              "      <td>0</td>\n",
              "      <td>0</td>\n",
              "      <td>1995.857143</td>\n",
              "    </tr>\n",
              "    <tr>\n",
              "      <th>West South Central</th>\n",
              "      <td>0</td>\n",
              "      <td>0</td>\n",
              "      <td>0</td>\n",
              "      <td>2280</td>\n",
              "      <td>0</td>\n",
              "      <td>0</td>\n",
              "      <td>0</td>\n",
              "      <td>0</td>\n",
              "      <td>0</td>\n",
              "      <td>0</td>\n",
              "      <td>0</td>\n",
              "      <td>0</td>\n",
              "      <td>0</td>\n",
              "      <td>0</td>\n",
              "      <td>0</td>\n",
              "      <td>0</td>\n",
              "      <td>0</td>\n",
              "      <td>0</td>\n",
              "      <td>2540</td>\n",
              "      <td>0</td>\n",
              "      <td>0</td>\n",
              "      <td>0</td>\n",
              "      <td>0</td>\n",
              "      <td>0</td>\n",
              "      <td>0</td>\n",
              "      <td>0</td>\n",
              "      <td>0</td>\n",
              "      <td>0</td>\n",
              "      <td>0</td>\n",
              "      <td>0</td>\n",
              "      <td>0</td>\n",
              "      <td>0</td>\n",
              "      <td>0</td>\n",
              "      <td>0</td>\n",
              "      <td>0</td>\n",
              "      <td>0</td>\n",
              "      <td>2823</td>\n",
              "      <td>0</td>\n",
              "      <td>0</td>\n",
              "      <td>0</td>\n",
              "      <td>0</td>\n",
              "      <td>0</td>\n",
              "      <td>0</td>\n",
              "      <td>19199</td>\n",
              "      <td>0</td>\n",
              "      <td>0</td>\n",
              "      <td>0</td>\n",
              "      <td>0</td>\n",
              "      <td>0</td>\n",
              "      <td>0</td>\n",
              "      <td>0</td>\n",
              "      <td>6710.500000</td>\n",
              "    </tr>\n",
              "    <tr>\n",
              "      <th>All</th>\n",
              "      <td>2570</td>\n",
              "      <td>1434</td>\n",
              "      <td>7259</td>\n",
              "      <td>2280</td>\n",
              "      <td>109008</td>\n",
              "      <td>7607</td>\n",
              "      <td>2280</td>\n",
              "      <td>708</td>\n",
              "      <td>3770</td>\n",
              "      <td>21443</td>\n",
              "      <td>6943</td>\n",
              "      <td>4131</td>\n",
              "      <td>1297</td>\n",
              "      <td>6752</td>\n",
              "      <td>3776</td>\n",
              "      <td>1711</td>\n",
              "      <td>1443</td>\n",
              "      <td>2735</td>\n",
              "      <td>2540</td>\n",
              "      <td>1450</td>\n",
              "      <td>4914</td>\n",
              "      <td>6811</td>\n",
              "      <td>5209</td>\n",
              "      <td>3993</td>\n",
              "      <td>1024</td>\n",
              "      <td>3776</td>\n",
              "      <td>983</td>\n",
              "      <td>1745</td>\n",
              "      <td>7058</td>\n",
              "      <td>835</td>\n",
              "      <td>6048</td>\n",
              "      <td>1949</td>\n",
              "      <td>39827</td>\n",
              "      <td>6451</td>\n",
              "      <td>467</td>\n",
              "      <td>6929</td>\n",
              "      <td>2823</td>\n",
              "      <td>11139</td>\n",
              "      <td>8163</td>\n",
              "      <td>747</td>\n",
              "      <td>3082</td>\n",
              "      <td>836</td>\n",
              "      <td>6139</td>\n",
              "      <td>19199</td>\n",
              "      <td>1904</td>\n",
              "      <td>780</td>\n",
              "      <td>3928</td>\n",
              "      <td>16424</td>\n",
              "      <td>1021</td>\n",
              "      <td>2740</td>\n",
              "      <td>434</td>\n",
              "      <td>7225.784314</td>\n",
              "    </tr>\n",
              "  </tbody>\n",
              "</table>\n",
              "</div>"
            ],
            "text/plain": [
              "state               Alabama  Alaska  Arizona  ...  Wisconsin  Wyoming           All\n",
              "region                                        ...                                  \n",
              "East North Central        0       0        0  ...       2740        0   5081.200000\n",
              "East South Central     2570       0        0  ...          0        0   3117.000000\n",
              "Mid-Atlantic              0       0        0  ...          0        0  18012.666667\n",
              "Mountain                  0       0     7259  ...          0      434   3561.375000\n",
              "New England               0       0        0  ...          0        0   2150.500000\n",
              "Pacific                   0    1434        0  ...          0        0  28427.200000\n",
              "South Atlantic            0       0        0  ...          0        0   5806.666667\n",
              "West North Central        0       0        0  ...          0        0   1995.857143\n",
              "West South Central        0       0        0  ...          0        0   6710.500000\n",
              "All                    2570    1434     7259  ...       2740      434   7225.784314\n",
              "\n",
              "[10 rows x 52 columns]"
            ]
          },
          "metadata": {},
          "execution_count": 13
        }
      ]
    },
    {
      "cell_type": "markdown",
      "metadata": {
        "id": "nkoc4JYKWHXE"
      },
      "source": [
        "#. Explicit indexes"
      ]
    },
    {
      "cell_type": "code",
      "metadata": {
        "colab": {
          "base_uri": "https://localhost:8080/",
          "height": 206
        },
        "id": "zgU2PeLGUaua",
        "outputId": "afc1c92e-0ddd-40cb-d178-51657c99a935"
      },
      "source": [
        "df.head()"
      ],
      "execution_count": 14,
      "outputs": [
        {
          "output_type": "execute_result",
          "data": {
            "text/html": [
              "<div>\n",
              "<style scoped>\n",
              "    .dataframe tbody tr th:only-of-type {\n",
              "        vertical-align: middle;\n",
              "    }\n",
              "\n",
              "    .dataframe tbody tr th {\n",
              "        vertical-align: top;\n",
              "    }\n",
              "\n",
              "    .dataframe thead th {\n",
              "        text-align: right;\n",
              "    }\n",
              "</style>\n",
              "<table border=\"1\" class=\"dataframe\">\n",
              "  <thead>\n",
              "    <tr style=\"text-align: right;\">\n",
              "      <th></th>\n",
              "      <th>region</th>\n",
              "      <th>state</th>\n",
              "      <th>individuals</th>\n",
              "      <th>family_members</th>\n",
              "      <th>state_pop</th>\n",
              "    </tr>\n",
              "  </thead>\n",
              "  <tbody>\n",
              "    <tr>\n",
              "      <th>0</th>\n",
              "      <td>East South Central</td>\n",
              "      <td>Alabama</td>\n",
              "      <td>2570.0</td>\n",
              "      <td>864.0</td>\n",
              "      <td>4887681</td>\n",
              "    </tr>\n",
              "    <tr>\n",
              "      <th>1</th>\n",
              "      <td>Pacific</td>\n",
              "      <td>Alaska</td>\n",
              "      <td>1434.0</td>\n",
              "      <td>582.0</td>\n",
              "      <td>735139</td>\n",
              "    </tr>\n",
              "    <tr>\n",
              "      <th>2</th>\n",
              "      <td>Mountain</td>\n",
              "      <td>Arizona</td>\n",
              "      <td>7259.0</td>\n",
              "      <td>2606.0</td>\n",
              "      <td>7158024</td>\n",
              "    </tr>\n",
              "    <tr>\n",
              "      <th>3</th>\n",
              "      <td>West South Central</td>\n",
              "      <td>Arkansas</td>\n",
              "      <td>2280.0</td>\n",
              "      <td>432.0</td>\n",
              "      <td>3009733</td>\n",
              "    </tr>\n",
              "    <tr>\n",
              "      <th>4</th>\n",
              "      <td>Pacific</td>\n",
              "      <td>California</td>\n",
              "      <td>109008.0</td>\n",
              "      <td>20964.0</td>\n",
              "      <td>39461588</td>\n",
              "    </tr>\n",
              "  </tbody>\n",
              "</table>\n",
              "</div>"
            ],
            "text/plain": [
              "               region       state  individuals  family_members  state_pop\n",
              "0  East South Central     Alabama       2570.0           864.0    4887681\n",
              "1             Pacific      Alaska       1434.0           582.0     735139\n",
              "2            Mountain     Arizona       7259.0          2606.0    7158024\n",
              "3  West South Central    Arkansas       2280.0           432.0    3009733\n",
              "4             Pacific  California     109008.0         20964.0   39461588"
            ]
          },
          "metadata": {},
          "execution_count": 14
        }
      ]
    },
    {
      "cell_type": "code",
      "metadata": {
        "colab": {
          "base_uri": "https://localhost:8080/",
          "height": 237
        },
        "id": "ZIpSWCyRWMcv",
        "outputId": "8db9add6-e373-4b44-c48a-649fcb0f16a3"
      },
      "source": [
        "df.set_index('region').head()"
      ],
      "execution_count": 15,
      "outputs": [
        {
          "output_type": "execute_result",
          "data": {
            "text/html": [
              "<div>\n",
              "<style scoped>\n",
              "    .dataframe tbody tr th:only-of-type {\n",
              "        vertical-align: middle;\n",
              "    }\n",
              "\n",
              "    .dataframe tbody tr th {\n",
              "        vertical-align: top;\n",
              "    }\n",
              "\n",
              "    .dataframe thead th {\n",
              "        text-align: right;\n",
              "    }\n",
              "</style>\n",
              "<table border=\"1\" class=\"dataframe\">\n",
              "  <thead>\n",
              "    <tr style=\"text-align: right;\">\n",
              "      <th></th>\n",
              "      <th>state</th>\n",
              "      <th>individuals</th>\n",
              "      <th>family_members</th>\n",
              "      <th>state_pop</th>\n",
              "    </tr>\n",
              "    <tr>\n",
              "      <th>region</th>\n",
              "      <th></th>\n",
              "      <th></th>\n",
              "      <th></th>\n",
              "      <th></th>\n",
              "    </tr>\n",
              "  </thead>\n",
              "  <tbody>\n",
              "    <tr>\n",
              "      <th>East South Central</th>\n",
              "      <td>Alabama</td>\n",
              "      <td>2570.0</td>\n",
              "      <td>864.0</td>\n",
              "      <td>4887681</td>\n",
              "    </tr>\n",
              "    <tr>\n",
              "      <th>Pacific</th>\n",
              "      <td>Alaska</td>\n",
              "      <td>1434.0</td>\n",
              "      <td>582.0</td>\n",
              "      <td>735139</td>\n",
              "    </tr>\n",
              "    <tr>\n",
              "      <th>Mountain</th>\n",
              "      <td>Arizona</td>\n",
              "      <td>7259.0</td>\n",
              "      <td>2606.0</td>\n",
              "      <td>7158024</td>\n",
              "    </tr>\n",
              "    <tr>\n",
              "      <th>West South Central</th>\n",
              "      <td>Arkansas</td>\n",
              "      <td>2280.0</td>\n",
              "      <td>432.0</td>\n",
              "      <td>3009733</td>\n",
              "    </tr>\n",
              "    <tr>\n",
              "      <th>Pacific</th>\n",
              "      <td>California</td>\n",
              "      <td>109008.0</td>\n",
              "      <td>20964.0</td>\n",
              "      <td>39461588</td>\n",
              "    </tr>\n",
              "  </tbody>\n",
              "</table>\n",
              "</div>"
            ],
            "text/plain": [
              "                         state  individuals  family_members  state_pop\n",
              "region                                                                \n",
              "East South Central     Alabama       2570.0           864.0    4887681\n",
              "Pacific                 Alaska       1434.0           582.0     735139\n",
              "Mountain               Arizona       7259.0          2606.0    7158024\n",
              "West South Central    Arkansas       2280.0           432.0    3009733\n",
              "Pacific             California     109008.0         20964.0   39461588"
            ]
          },
          "metadata": {},
          "execution_count": 15
        }
      ]
    },
    {
      "cell_type": "code",
      "metadata": {
        "colab": {
          "base_uri": "https://localhost:8080/",
          "height": 237
        },
        "id": "27DBAXYoWTsn",
        "outputId": "8649c066-c42c-4fb0-f45a-27b39e5695ae"
      },
      "source": [
        "df.set_index(['region', 'state']).head()"
      ],
      "execution_count": 16,
      "outputs": [
        {
          "output_type": "execute_result",
          "data": {
            "text/html": [
              "<div>\n",
              "<style scoped>\n",
              "    .dataframe tbody tr th:only-of-type {\n",
              "        vertical-align: middle;\n",
              "    }\n",
              "\n",
              "    .dataframe tbody tr th {\n",
              "        vertical-align: top;\n",
              "    }\n",
              "\n",
              "    .dataframe thead th {\n",
              "        text-align: right;\n",
              "    }\n",
              "</style>\n",
              "<table border=\"1\" class=\"dataframe\">\n",
              "  <thead>\n",
              "    <tr style=\"text-align: right;\">\n",
              "      <th></th>\n",
              "      <th></th>\n",
              "      <th>individuals</th>\n",
              "      <th>family_members</th>\n",
              "      <th>state_pop</th>\n",
              "    </tr>\n",
              "    <tr>\n",
              "      <th>region</th>\n",
              "      <th>state</th>\n",
              "      <th></th>\n",
              "      <th></th>\n",
              "      <th></th>\n",
              "    </tr>\n",
              "  </thead>\n",
              "  <tbody>\n",
              "    <tr>\n",
              "      <th>East South Central</th>\n",
              "      <th>Alabama</th>\n",
              "      <td>2570.0</td>\n",
              "      <td>864.0</td>\n",
              "      <td>4887681</td>\n",
              "    </tr>\n",
              "    <tr>\n",
              "      <th>Pacific</th>\n",
              "      <th>Alaska</th>\n",
              "      <td>1434.0</td>\n",
              "      <td>582.0</td>\n",
              "      <td>735139</td>\n",
              "    </tr>\n",
              "    <tr>\n",
              "      <th>Mountain</th>\n",
              "      <th>Arizona</th>\n",
              "      <td>7259.0</td>\n",
              "      <td>2606.0</td>\n",
              "      <td>7158024</td>\n",
              "    </tr>\n",
              "    <tr>\n",
              "      <th>West South Central</th>\n",
              "      <th>Arkansas</th>\n",
              "      <td>2280.0</td>\n",
              "      <td>432.0</td>\n",
              "      <td>3009733</td>\n",
              "    </tr>\n",
              "    <tr>\n",
              "      <th>Pacific</th>\n",
              "      <th>California</th>\n",
              "      <td>109008.0</td>\n",
              "      <td>20964.0</td>\n",
              "      <td>39461588</td>\n",
              "    </tr>\n",
              "  </tbody>\n",
              "</table>\n",
              "</div>"
            ],
            "text/plain": [
              "                               individuals  family_members  state_pop\n",
              "region             state                                             \n",
              "East South Central Alabama          2570.0           864.0    4887681\n",
              "Pacific            Alaska           1434.0           582.0     735139\n",
              "Mountain           Arizona          7259.0          2606.0    7158024\n",
              "West South Central Arkansas         2280.0           432.0    3009733\n",
              "Pacific            California     109008.0         20964.0   39461588"
            ]
          },
          "metadata": {},
          "execution_count": 16
        }
      ]
    },
    {
      "cell_type": "code",
      "metadata": {
        "colab": {
          "base_uri": "https://localhost:8080/",
          "height": 206
        },
        "id": "0SvgFEpfWYov",
        "outputId": "c13b17d1-83af-4fb0-eed2-2cc5e02ef6db"
      },
      "source": [
        "df1 = df.set_index('region').head()\n",
        "df1.reset_index()"
      ],
      "execution_count": 17,
      "outputs": [
        {
          "output_type": "execute_result",
          "data": {
            "text/html": [
              "<div>\n",
              "<style scoped>\n",
              "    .dataframe tbody tr th:only-of-type {\n",
              "        vertical-align: middle;\n",
              "    }\n",
              "\n",
              "    .dataframe tbody tr th {\n",
              "        vertical-align: top;\n",
              "    }\n",
              "\n",
              "    .dataframe thead th {\n",
              "        text-align: right;\n",
              "    }\n",
              "</style>\n",
              "<table border=\"1\" class=\"dataframe\">\n",
              "  <thead>\n",
              "    <tr style=\"text-align: right;\">\n",
              "      <th></th>\n",
              "      <th>region</th>\n",
              "      <th>state</th>\n",
              "      <th>individuals</th>\n",
              "      <th>family_members</th>\n",
              "      <th>state_pop</th>\n",
              "    </tr>\n",
              "  </thead>\n",
              "  <tbody>\n",
              "    <tr>\n",
              "      <th>0</th>\n",
              "      <td>East South Central</td>\n",
              "      <td>Alabama</td>\n",
              "      <td>2570.0</td>\n",
              "      <td>864.0</td>\n",
              "      <td>4887681</td>\n",
              "    </tr>\n",
              "    <tr>\n",
              "      <th>1</th>\n",
              "      <td>Pacific</td>\n",
              "      <td>Alaska</td>\n",
              "      <td>1434.0</td>\n",
              "      <td>582.0</td>\n",
              "      <td>735139</td>\n",
              "    </tr>\n",
              "    <tr>\n",
              "      <th>2</th>\n",
              "      <td>Mountain</td>\n",
              "      <td>Arizona</td>\n",
              "      <td>7259.0</td>\n",
              "      <td>2606.0</td>\n",
              "      <td>7158024</td>\n",
              "    </tr>\n",
              "    <tr>\n",
              "      <th>3</th>\n",
              "      <td>West South Central</td>\n",
              "      <td>Arkansas</td>\n",
              "      <td>2280.0</td>\n",
              "      <td>432.0</td>\n",
              "      <td>3009733</td>\n",
              "    </tr>\n",
              "    <tr>\n",
              "      <th>4</th>\n",
              "      <td>Pacific</td>\n",
              "      <td>California</td>\n",
              "      <td>109008.0</td>\n",
              "      <td>20964.0</td>\n",
              "      <td>39461588</td>\n",
              "    </tr>\n",
              "  </tbody>\n",
              "</table>\n",
              "</div>"
            ],
            "text/plain": [
              "               region       state  individuals  family_members  state_pop\n",
              "0  East South Central     Alabama       2570.0           864.0    4887681\n",
              "1             Pacific      Alaska       1434.0           582.0     735139\n",
              "2            Mountain     Arizona       7259.0          2606.0    7158024\n",
              "3  West South Central    Arkansas       2280.0           432.0    3009733\n",
              "4             Pacific  California     109008.0         20964.0   39461588"
            ]
          },
          "metadata": {},
          "execution_count": 17
        }
      ]
    },
    {
      "cell_type": "code",
      "metadata": {
        "colab": {
          "base_uri": "https://localhost:8080/",
          "height": 206
        },
        "id": "cbnCu-qSWmA2",
        "outputId": "bd6425a5-daba-4f18-e5a1-a9baa3f54047"
      },
      "source": [
        "df1 = df.set_index('region').head()\n",
        "df1.reset_index(drop = True)"
      ],
      "execution_count": 18,
      "outputs": [
        {
          "output_type": "execute_result",
          "data": {
            "text/html": [
              "<div>\n",
              "<style scoped>\n",
              "    .dataframe tbody tr th:only-of-type {\n",
              "        vertical-align: middle;\n",
              "    }\n",
              "\n",
              "    .dataframe tbody tr th {\n",
              "        vertical-align: top;\n",
              "    }\n",
              "\n",
              "    .dataframe thead th {\n",
              "        text-align: right;\n",
              "    }\n",
              "</style>\n",
              "<table border=\"1\" class=\"dataframe\">\n",
              "  <thead>\n",
              "    <tr style=\"text-align: right;\">\n",
              "      <th></th>\n",
              "      <th>state</th>\n",
              "      <th>individuals</th>\n",
              "      <th>family_members</th>\n",
              "      <th>state_pop</th>\n",
              "    </tr>\n",
              "  </thead>\n",
              "  <tbody>\n",
              "    <tr>\n",
              "      <th>0</th>\n",
              "      <td>Alabama</td>\n",
              "      <td>2570.0</td>\n",
              "      <td>864.0</td>\n",
              "      <td>4887681</td>\n",
              "    </tr>\n",
              "    <tr>\n",
              "      <th>1</th>\n",
              "      <td>Alaska</td>\n",
              "      <td>1434.0</td>\n",
              "      <td>582.0</td>\n",
              "      <td>735139</td>\n",
              "    </tr>\n",
              "    <tr>\n",
              "      <th>2</th>\n",
              "      <td>Arizona</td>\n",
              "      <td>7259.0</td>\n",
              "      <td>2606.0</td>\n",
              "      <td>7158024</td>\n",
              "    </tr>\n",
              "    <tr>\n",
              "      <th>3</th>\n",
              "      <td>Arkansas</td>\n",
              "      <td>2280.0</td>\n",
              "      <td>432.0</td>\n",
              "      <td>3009733</td>\n",
              "    </tr>\n",
              "    <tr>\n",
              "      <th>4</th>\n",
              "      <td>California</td>\n",
              "      <td>109008.0</td>\n",
              "      <td>20964.0</td>\n",
              "      <td>39461588</td>\n",
              "    </tr>\n",
              "  </tbody>\n",
              "</table>\n",
              "</div>"
            ],
            "text/plain": [
              "        state  individuals  family_members  state_pop\n",
              "0     Alabama       2570.0           864.0    4887681\n",
              "1      Alaska       1434.0           582.0     735139\n",
              "2     Arizona       7259.0          2606.0    7158024\n",
              "3    Arkansas       2280.0           432.0    3009733\n",
              "4  California     109008.0         20964.0   39461588"
            ]
          },
          "metadata": {},
          "execution_count": 18
        }
      ]
    },
    {
      "cell_type": "code",
      "metadata": {
        "colab": {
          "base_uri": "https://localhost:8080/",
          "height": 237
        },
        "id": "WOFsdRxjWqtm",
        "outputId": "4ab0982c-84d3-4065-f1ce-18880f3b17f5"
      },
      "source": [
        "df1 = df.set_index('region')\n",
        "df1.loc['Pacific']"
      ],
      "execution_count": 19,
      "outputs": [
        {
          "output_type": "execute_result",
          "data": {
            "text/html": [
              "<div>\n",
              "<style scoped>\n",
              "    .dataframe tbody tr th:only-of-type {\n",
              "        vertical-align: middle;\n",
              "    }\n",
              "\n",
              "    .dataframe tbody tr th {\n",
              "        vertical-align: top;\n",
              "    }\n",
              "\n",
              "    .dataframe thead th {\n",
              "        text-align: right;\n",
              "    }\n",
              "</style>\n",
              "<table border=\"1\" class=\"dataframe\">\n",
              "  <thead>\n",
              "    <tr style=\"text-align: right;\">\n",
              "      <th></th>\n",
              "      <th>state</th>\n",
              "      <th>individuals</th>\n",
              "      <th>family_members</th>\n",
              "      <th>state_pop</th>\n",
              "    </tr>\n",
              "    <tr>\n",
              "      <th>region</th>\n",
              "      <th></th>\n",
              "      <th></th>\n",
              "      <th></th>\n",
              "      <th></th>\n",
              "    </tr>\n",
              "  </thead>\n",
              "  <tbody>\n",
              "    <tr>\n",
              "      <th>Pacific</th>\n",
              "      <td>Alaska</td>\n",
              "      <td>1434.0</td>\n",
              "      <td>582.0</td>\n",
              "      <td>735139</td>\n",
              "    </tr>\n",
              "    <tr>\n",
              "      <th>Pacific</th>\n",
              "      <td>California</td>\n",
              "      <td>109008.0</td>\n",
              "      <td>20964.0</td>\n",
              "      <td>39461588</td>\n",
              "    </tr>\n",
              "    <tr>\n",
              "      <th>Pacific</th>\n",
              "      <td>Hawaii</td>\n",
              "      <td>4131.0</td>\n",
              "      <td>2399.0</td>\n",
              "      <td>1420593</td>\n",
              "    </tr>\n",
              "    <tr>\n",
              "      <th>Pacific</th>\n",
              "      <td>Oregon</td>\n",
              "      <td>11139.0</td>\n",
              "      <td>3337.0</td>\n",
              "      <td>4181886</td>\n",
              "    </tr>\n",
              "    <tr>\n",
              "      <th>Pacific</th>\n",
              "      <td>Washington</td>\n",
              "      <td>16424.0</td>\n",
              "      <td>5880.0</td>\n",
              "      <td>7523869</td>\n",
              "    </tr>\n",
              "  </tbody>\n",
              "</table>\n",
              "</div>"
            ],
            "text/plain": [
              "              state  individuals  family_members  state_pop\n",
              "region                                                     \n",
              "Pacific      Alaska       1434.0           582.0     735139\n",
              "Pacific  California     109008.0         20964.0   39461588\n",
              "Pacific      Hawaii       4131.0          2399.0    1420593\n",
              "Pacific      Oregon      11139.0          3337.0    4181886\n",
              "Pacific  Washington      16424.0          5880.0    7523869"
            ]
          },
          "metadata": {},
          "execution_count": 19
        }
      ]
    },
    {
      "cell_type": "code",
      "metadata": {
        "colab": {
          "base_uri": "https://localhost:8080/",
          "height": 488
        },
        "id": "8wkmVxESW5gO",
        "outputId": "2863d862-804b-48bc-fc8f-0c417589de3e"
      },
      "source": [
        "df1.loc[['Pacific', 'Mountain']]"
      ],
      "execution_count": 20,
      "outputs": [
        {
          "output_type": "execute_result",
          "data": {
            "text/html": [
              "<div>\n",
              "<style scoped>\n",
              "    .dataframe tbody tr th:only-of-type {\n",
              "        vertical-align: middle;\n",
              "    }\n",
              "\n",
              "    .dataframe tbody tr th {\n",
              "        vertical-align: top;\n",
              "    }\n",
              "\n",
              "    .dataframe thead th {\n",
              "        text-align: right;\n",
              "    }\n",
              "</style>\n",
              "<table border=\"1\" class=\"dataframe\">\n",
              "  <thead>\n",
              "    <tr style=\"text-align: right;\">\n",
              "      <th></th>\n",
              "      <th>state</th>\n",
              "      <th>individuals</th>\n",
              "      <th>family_members</th>\n",
              "      <th>state_pop</th>\n",
              "    </tr>\n",
              "    <tr>\n",
              "      <th>region</th>\n",
              "      <th></th>\n",
              "      <th></th>\n",
              "      <th></th>\n",
              "      <th></th>\n",
              "    </tr>\n",
              "  </thead>\n",
              "  <tbody>\n",
              "    <tr>\n",
              "      <th>Pacific</th>\n",
              "      <td>Alaska</td>\n",
              "      <td>1434.0</td>\n",
              "      <td>582.0</td>\n",
              "      <td>735139</td>\n",
              "    </tr>\n",
              "    <tr>\n",
              "      <th>Pacific</th>\n",
              "      <td>California</td>\n",
              "      <td>109008.0</td>\n",
              "      <td>20964.0</td>\n",
              "      <td>39461588</td>\n",
              "    </tr>\n",
              "    <tr>\n",
              "      <th>Pacific</th>\n",
              "      <td>Hawaii</td>\n",
              "      <td>4131.0</td>\n",
              "      <td>2399.0</td>\n",
              "      <td>1420593</td>\n",
              "    </tr>\n",
              "    <tr>\n",
              "      <th>Pacific</th>\n",
              "      <td>Oregon</td>\n",
              "      <td>11139.0</td>\n",
              "      <td>3337.0</td>\n",
              "      <td>4181886</td>\n",
              "    </tr>\n",
              "    <tr>\n",
              "      <th>Pacific</th>\n",
              "      <td>Washington</td>\n",
              "      <td>16424.0</td>\n",
              "      <td>5880.0</td>\n",
              "      <td>7523869</td>\n",
              "    </tr>\n",
              "    <tr>\n",
              "      <th>Mountain</th>\n",
              "      <td>Arizona</td>\n",
              "      <td>7259.0</td>\n",
              "      <td>2606.0</td>\n",
              "      <td>7158024</td>\n",
              "    </tr>\n",
              "    <tr>\n",
              "      <th>Mountain</th>\n",
              "      <td>Colorado</td>\n",
              "      <td>7607.0</td>\n",
              "      <td>3250.0</td>\n",
              "      <td>5691287</td>\n",
              "    </tr>\n",
              "    <tr>\n",
              "      <th>Mountain</th>\n",
              "      <td>Idaho</td>\n",
              "      <td>1297.0</td>\n",
              "      <td>715.0</td>\n",
              "      <td>1750536</td>\n",
              "    </tr>\n",
              "    <tr>\n",
              "      <th>Mountain</th>\n",
              "      <td>Montana</td>\n",
              "      <td>983.0</td>\n",
              "      <td>422.0</td>\n",
              "      <td>1060665</td>\n",
              "    </tr>\n",
              "    <tr>\n",
              "      <th>Mountain</th>\n",
              "      <td>Nevada</td>\n",
              "      <td>7058.0</td>\n",
              "      <td>486.0</td>\n",
              "      <td>3027341</td>\n",
              "    </tr>\n",
              "    <tr>\n",
              "      <th>Mountain</th>\n",
              "      <td>New Mexico</td>\n",
              "      <td>1949.0</td>\n",
              "      <td>602.0</td>\n",
              "      <td>2092741</td>\n",
              "    </tr>\n",
              "    <tr>\n",
              "      <th>Mountain</th>\n",
              "      <td>Utah</td>\n",
              "      <td>1904.0</td>\n",
              "      <td>972.0</td>\n",
              "      <td>3153550</td>\n",
              "    </tr>\n",
              "    <tr>\n",
              "      <th>Mountain</th>\n",
              "      <td>Wyoming</td>\n",
              "      <td>434.0</td>\n",
              "      <td>205.0</td>\n",
              "      <td>577601</td>\n",
              "    </tr>\n",
              "  </tbody>\n",
              "</table>\n",
              "</div>"
            ],
            "text/plain": [
              "               state  individuals  family_members  state_pop\n",
              "region                                                      \n",
              "Pacific       Alaska       1434.0           582.0     735139\n",
              "Pacific   California     109008.0         20964.0   39461588\n",
              "Pacific       Hawaii       4131.0          2399.0    1420593\n",
              "Pacific       Oregon      11139.0          3337.0    4181886\n",
              "Pacific   Washington      16424.0          5880.0    7523869\n",
              "Mountain     Arizona       7259.0          2606.0    7158024\n",
              "Mountain    Colorado       7607.0          3250.0    5691287\n",
              "Mountain       Idaho       1297.0           715.0    1750536\n",
              "Mountain     Montana        983.0           422.0    1060665\n",
              "Mountain      Nevada       7058.0           486.0    3027341\n",
              "Mountain  New Mexico       1949.0           602.0    2092741\n",
              "Mountain        Utah       1904.0           972.0    3153550\n",
              "Mountain     Wyoming        434.0           205.0     577601"
            ]
          },
          "metadata": {},
          "execution_count": 20
        }
      ]
    },
    {
      "cell_type": "code",
      "metadata": {
        "colab": {
          "base_uri": "https://localhost:8080/",
          "height": 112
        },
        "id": "NobZPvSsXEI2",
        "outputId": "63749b8a-75ba-418d-e104-639c4460915b"
      },
      "source": [
        "df1 = df.set_index(['region', 'state'])\n",
        "df1.loc[[('Mountain', 'Nevada')]]"
      ],
      "execution_count": 22,
      "outputs": [
        {
          "output_type": "execute_result",
          "data": {
            "text/html": [
              "<div>\n",
              "<style scoped>\n",
              "    .dataframe tbody tr th:only-of-type {\n",
              "        vertical-align: middle;\n",
              "    }\n",
              "\n",
              "    .dataframe tbody tr th {\n",
              "        vertical-align: top;\n",
              "    }\n",
              "\n",
              "    .dataframe thead th {\n",
              "        text-align: right;\n",
              "    }\n",
              "</style>\n",
              "<table border=\"1\" class=\"dataframe\">\n",
              "  <thead>\n",
              "    <tr style=\"text-align: right;\">\n",
              "      <th></th>\n",
              "      <th></th>\n",
              "      <th>individuals</th>\n",
              "      <th>family_members</th>\n",
              "      <th>state_pop</th>\n",
              "    </tr>\n",
              "    <tr>\n",
              "      <th>region</th>\n",
              "      <th>state</th>\n",
              "      <th></th>\n",
              "      <th></th>\n",
              "      <th></th>\n",
              "    </tr>\n",
              "  </thead>\n",
              "  <tbody>\n",
              "    <tr>\n",
              "      <th>Mountain</th>\n",
              "      <th>Nevada</th>\n",
              "      <td>7058.0</td>\n",
              "      <td>486.0</td>\n",
              "      <td>3027341</td>\n",
              "    </tr>\n",
              "  </tbody>\n",
              "</table>\n",
              "</div>"
            ],
            "text/plain": [
              "                 individuals  family_members  state_pop\n",
              "region   state                                         \n",
              "Mountain Nevada       7058.0           486.0    3027341"
            ]
          },
          "metadata": {},
          "execution_count": 22
        }
      ]
    },
    {
      "cell_type": "markdown",
      "metadata": {
        "id": "Cguo556VYHZ0"
      },
      "source": [
        "#8. Visualizing your data"
      ]
    },
    {
      "cell_type": "code",
      "metadata": {
        "colab": {
          "base_uri": "https://localhost:8080/"
        },
        "id": "3mGgsGcLZdlP",
        "outputId": "53a671d5-59e9-4228-cef0-e8b65fc605e4"
      },
      "source": [
        "df1 = pd.read_csv('temperatures.csv', index_col= 0, parse_dates= ['date'])\n",
        "df1.groupby('city')['avg_temp_c'].mean()"
      ],
      "execution_count": 54,
      "outputs": [
        {
          "output_type": "execute_result",
          "data": {
            "text/plain": [
              "city\n",
              "Abidjan        26.971024\n",
              "Addis Abeba    18.425378\n",
              "Ahmadabad      27.431195\n",
              "Aleppo         18.501244\n",
              "Alexandria     21.407896\n",
              "                 ...    \n",
              "Tokyo          13.413512\n",
              "Toronto         7.230067\n",
              "Umm Durman     29.981780\n",
              "Wuhan          17.749591\n",
              "Xian           12.488933\n",
              "Name: avg_temp_c, Length: 100, dtype: float64"
            ]
          },
          "metadata": {},
          "execution_count": 54
        }
      ]
    },
    {
      "cell_type": "code",
      "metadata": {
        "colab": {
          "base_uri": "https://localhost:8080/",
          "height": 265
        },
        "id": "rsZ9KZC6XaWV",
        "outputId": "ac255e3f-0933-4657-a3bd-1e56ec48d6c7"
      },
      "source": [
        "import matplotlib.pyplot as plt\n",
        "df1.groupby('city')['avg_temp_c'].mean().hist()\n",
        "plt.show()"
      ],
      "execution_count": 32,
      "outputs": [
        {
          "output_type": "display_data",
          "data": {
            "image/png": "[encoded data removed]",
            "text/plain": [
              "<Figure size 432x288 with 1 Axes>"
            ]
          },
          "metadata": {
            "needs_background": "light"
          }
        }
      ]
    },
    {
      "cell_type": "code",
      "metadata": {
        "colab": {
          "base_uri": "https://localhost:8080/",
          "height": 265
        },
        "id": "Qe2fNVbYYbMi",
        "outputId": "357e3c5c-7482-4679-a9db-d669b3730ead"
      },
      "source": [
        "df1.groupby('city')['avg_temp_c'].mean().hist(bins = 20)\n",
        "plt.show()"
      ],
      "execution_count": 33,
      "outputs": [
        {
          "output_type": "display_data",
          "data": {
            "image/png": "[encoded data removed]",
            "text/plain": [
              "<Figure size 432x288 with 1 Axes>"
            ]
          },
          "metadata": {
            "needs_background": "light"
          }
        }
      ]
    },
    {
      "cell_type": "code",
      "metadata": {
        "colab": {
          "base_uri": "https://localhost:8080/",
          "height": 265
        },
        "id": "kYTjtOp2aCr3",
        "outputId": "cb509fe0-ca64-4cb2-9cb4-8faf79b3d184"
      },
      "source": [
        "df1.groupby('city')['avg_temp_c'].mean().hist(bins = 5)\n",
        "plt.show()"
      ],
      "execution_count": 34,
      "outputs": [
        {
          "output_type": "display_data",
          "data": {
            "image/png": "[encoded data removed]",
            "text/plain": [
              "<Figure size 432x288 with 1 Axes>"
            ]
          },
          "metadata": {
            "needs_background": "light"
          }
        }
      ]
    },
    {
      "cell_type": "code",
      "metadata": {
        "colab": {
          "base_uri": "https://localhost:8080/",
          "height": 342
        },
        "id": "BTyJNwqQaSoK",
        "outputId": "6e615482-5184-47c3-9518-562a44d740b6"
      },
      "source": [
        "df1.groupby('city')['avg_temp_c'].mean().head(10).plot(kind = 'bar')\n",
        "plt.show()"
      ],
      "execution_count": 36,
      "outputs": [
        {
          "output_type": "display_data",
          "data": {
            "image/png": "[encoded data removed]",
            "text/plain": [
              "<Figure size 432x288 with 1 Axes>"
            ]
          },
          "metadata": {
            "needs_background": "light"
          }
        }
      ]
    },
    {
      "cell_type": "code",
      "metadata": {
        "colab": {
          "base_uri": "https://localhost:8080/",
          "height": 281
        },
        "id": "EvV1sfa8aWg4",
        "outputId": "d62f8363-d262-4ba5-d042-615ff2b3dfaa"
      },
      "source": [
        "df1.groupby('city')[['avg_temp_c']].agg(np.mean).sort_values('avg_temp_c', ascending = False).head(10).plot(kind = 'barh', \n",
        "                                                       title = 'mean avg_temp_c 10 city hightest')\n",
        "plt.show()"
      ],
      "execution_count": 47,
      "outputs": [
        {
          "output_type": "display_data",
          "data": {
            "image/png": "[encoded data removed]",
            "text/plain": [
              "<Figure size 432x288 with 1 Axes>"
            ]
          },
          "metadata": {
            "needs_background": "light"
          }
        }
      ]
    },
    {
      "cell_type": "code",
      "metadata": {
        "colab": {
          "base_uri": "https://localhost:8080/",
          "height": 237
        },
        "id": "nRnAbuD9a8TP",
        "outputId": "3b580b12-25b0-47b0-c9cb-6a652b107813"
      },
      "source": [
        "hcm_2000_2001  = df1[df1.city == 'Ho Chi Minh City'].set_index('date').loc['2000':'2001']\n",
        "hcm_2000_2001.head()"
      ],
      "execution_count": 58,
      "outputs": [
        {
          "output_type": "execute_result",
          "data": {
            "text/html": [
              "<div>\n",
              "<style scoped>\n",
              "    .dataframe tbody tr th:only-of-type {\n",
              "        vertical-align: middle;\n",
              "    }\n",
              "\n",
              "    .dataframe tbody tr th {\n",
              "        vertical-align: top;\n",
              "    }\n",
              "\n",
              "    .dataframe thead th {\n",
              "        text-align: right;\n",
              "    }\n",
              "</style>\n",
              "<table border=\"1\" class=\"dataframe\">\n",
              "  <thead>\n",
              "    <tr style=\"text-align: right;\">\n",
              "      <th></th>\n",
              "      <th>city</th>\n",
              "      <th>country</th>\n",
              "      <th>avg_temp_c</th>\n",
              "    </tr>\n",
              "    <tr>\n",
              "      <th>date</th>\n",
              "      <th></th>\n",
              "      <th></th>\n",
              "      <th></th>\n",
              "    </tr>\n",
              "  </thead>\n",
              "  <tbody>\n",
              "    <tr>\n",
              "      <th>2000-01-01</th>\n",
              "      <td>Ho Chi Minh City</td>\n",
              "      <td>Vietnam</td>\n",
              "      <td>26.647</td>\n",
              "    </tr>\n",
              "    <tr>\n",
              "      <th>2000-02-01</th>\n",
              "      <td>Ho Chi Minh City</td>\n",
              "      <td>Vietnam</td>\n",
              "      <td>26.672</td>\n",
              "    </tr>\n",
              "    <tr>\n",
              "      <th>2000-03-01</th>\n",
              "      <td>Ho Chi Minh City</td>\n",
              "      <td>Vietnam</td>\n",
              "      <td>27.655</td>\n",
              "    </tr>\n",
              "    <tr>\n",
              "      <th>2000-04-01</th>\n",
              "      <td>Ho Chi Minh City</td>\n",
              "      <td>Vietnam</td>\n",
              "      <td>28.378</td>\n",
              "    </tr>\n",
              "    <tr>\n",
              "      <th>2000-05-01</th>\n",
              "      <td>Ho Chi Minh City</td>\n",
              "      <td>Vietnam</td>\n",
              "      <td>28.597</td>\n",
              "    </tr>\n",
              "  </tbody>\n",
              "</table>\n",
              "</div>"
            ],
            "text/plain": [
              "                        city  country  avg_temp_c\n",
              "date                                             \n",
              "2000-01-01  Ho Chi Minh City  Vietnam      26.647\n",
              "2000-02-01  Ho Chi Minh City  Vietnam      26.672\n",
              "2000-03-01  Ho Chi Minh City  Vietnam      27.655\n",
              "2000-04-01  Ho Chi Minh City  Vietnam      28.378\n",
              "2000-05-01  Ho Chi Minh City  Vietnam      28.597"
            ]
          },
          "metadata": {},
          "execution_count": 58
        }
      ]
    },
    {
      "cell_type": "code",
      "metadata": {
        "colab": {
          "base_uri": "https://localhost:8080/",
          "height": 291
        },
        "id": "Hg3MgAVAcAv9",
        "outputId": "4249b2a5-900b-4b65-ae92-5d7fe7fa4c50"
      },
      "source": [
        "hcm_2000_2001.reset_index().plot(kind = 'line', x = 'date', y = 'avg_temp_c' )\n",
        "plt.show()"
      ],
      "execution_count": 60,
      "outputs": [
        {
          "output_type": "display_data",
          "data": {
            "image/png": "[encoded data removed]",
            "text/plain": [
              "<Figure size 432x288 with 1 Axes>"
            ]
          },
          "metadata": {
            "needs_background": "light"
          }
        }
      ]
    },
    {
      "cell_type": "code",
      "metadata": {
        "colab": {
          "base_uri": "https://localhost:8080/",
          "height": 302
        },
        "id": "QExdSEQNdX1F",
        "outputId": "9e71880b-d06d-47ce-de44-a25cb6fd3fb8"
      },
      "source": [
        "hcm_2000_2001.reset_index().plot(kind = 'line', x = 'date', y = 'avg_temp_c', rot = 45 )\n",
        "plt.show()"
      ],
      "execution_count": 61,
      "outputs": [
        {
          "output_type": "display_data",
          "data": {
            "image/png": "[encoded data removed]",
            "text/plain": [
              "<Figure size 432x288 with 1 Axes>"
            ]
          },
          "metadata": {
            "needs_background": "light"
          }
        }
      ]
    },
    {
      "cell_type": "code",
      "metadata": {
        "colab": {
          "base_uri": "https://localhost:8080/",
          "height": 313
        },
        "id": "1_RqP8fWdjtD",
        "outputId": "59e1f288-02b3-4c8e-f8bf-59c0c2c49f8a"
      },
      "source": [
        "df2 = pd.read_csv('sales_subset.csv', index_col= 0, parse_dates= ['date'])\n",
        "df2.head()"
      ],
      "execution_count": 94,
      "outputs": [
        {
          "output_type": "execute_result",
          "data": {
            "text/html": [
              "<div>\n",
              "<style scoped>\n",
              "    .dataframe tbody tr th:only-of-type {\n",
              "        vertical-align: middle;\n",
              "    }\n",
              "\n",
              "    .dataframe tbody tr th {\n",
              "        vertical-align: top;\n",
              "    }\n",
              "\n",
              "    .dataframe thead th {\n",
              "        text-align: right;\n",
              "    }\n",
              "</style>\n",
              "<table border=\"1\" class=\"dataframe\">\n",
              "  <thead>\n",
              "    <tr style=\"text-align: right;\">\n",
              "      <th></th>\n",
              "      <th>store</th>\n",
              "      <th>type</th>\n",
              "      <th>department</th>\n",
              "      <th>date</th>\n",
              "      <th>weekly_sales</th>\n",
              "      <th>is_holiday</th>\n",
              "      <th>temperature_c</th>\n",
              "      <th>fuel_price_usd_per_l</th>\n",
              "      <th>unemployment</th>\n",
              "    </tr>\n",
              "  </thead>\n",
              "  <tbody>\n",
              "    <tr>\n",
              "      <th>0</th>\n",
              "      <td>1</td>\n",
              "      <td>A</td>\n",
              "      <td>1</td>\n",
              "      <td>2010-02-05</td>\n",
              "      <td>24924.50</td>\n",
              "      <td>False</td>\n",
              "      <td>5.727778</td>\n",
              "      <td>0.679451</td>\n",
              "      <td>8.106</td>\n",
              "    </tr>\n",
              "    <tr>\n",
              "      <th>1</th>\n",
              "      <td>1</td>\n",
              "      <td>A</td>\n",
              "      <td>1</td>\n",
              "      <td>2010-03-05</td>\n",
              "      <td>21827.90</td>\n",
              "      <td>False</td>\n",
              "      <td>8.055556</td>\n",
              "      <td>0.693452</td>\n",
              "      <td>8.106</td>\n",
              "    </tr>\n",
              "    <tr>\n",
              "      <th>2</th>\n",
              "      <td>1</td>\n",
              "      <td>A</td>\n",
              "      <td>1</td>\n",
              "      <td>2010-04-02</td>\n",
              "      <td>57258.43</td>\n",
              "      <td>False</td>\n",
              "      <td>16.816667</td>\n",
              "      <td>0.718284</td>\n",
              "      <td>7.808</td>\n",
              "    </tr>\n",
              "    <tr>\n",
              "      <th>3</th>\n",
              "      <td>1</td>\n",
              "      <td>A</td>\n",
              "      <td>1</td>\n",
              "      <td>2010-05-07</td>\n",
              "      <td>17413.94</td>\n",
              "      <td>False</td>\n",
              "      <td>22.527778</td>\n",
              "      <td>0.748928</td>\n",
              "      <td>7.808</td>\n",
              "    </tr>\n",
              "    <tr>\n",
              "      <th>4</th>\n",
              "      <td>1</td>\n",
              "      <td>A</td>\n",
              "      <td>1</td>\n",
              "      <td>2010-06-04</td>\n",
              "      <td>17558.09</td>\n",
              "      <td>False</td>\n",
              "      <td>27.050000</td>\n",
              "      <td>0.714586</td>\n",
              "      <td>7.808</td>\n",
              "    </tr>\n",
              "  </tbody>\n",
              "</table>\n",
              "</div>"
            ],
            "text/plain": [
              "   store type  department  ... temperature_c  fuel_price_usd_per_l  unemployment\n",
              "0      1    A           1  ...      5.727778              0.679451         8.106\n",
              "1      1    A           1  ...      8.055556              0.693452         8.106\n",
              "2      1    A           1  ...     16.816667              0.718284         7.808\n",
              "3      1    A           1  ...     22.527778              0.748928         7.808\n",
              "4      1    A           1  ...     27.050000              0.714586         7.808\n",
              "\n",
              "[5 rows x 9 columns]"
            ]
          },
          "metadata": {},
          "execution_count": 94
        }
      ]
    },
    {
      "cell_type": "code",
      "metadata": {
        "colab": {
          "base_uri": "https://localhost:8080/",
          "height": 280
        },
        "id": "QUWnog6eexGA",
        "outputId": "5727a7d3-3455-49fa-e5d8-0c6f6d049552"
      },
      "source": [
        "df2.plot(kind = 'scatter',\n",
        "         x = 'temperature_c',\n",
        "         y = 'weekly_sales')\n",
        "plt.show()"
      ],
      "execution_count": 96,
      "outputs": [
        {
          "output_type": "display_data",
          "data": {
            "image/png": "[encoded data removed]",
            "text/plain": [
              "<Figure size 432x288 with 1 Axes>"
            ]
          },
          "metadata": {
            "needs_background": "light"
          }
        }
      ]
    },
    {
      "cell_type": "code",
      "metadata": {
        "colab": {
          "base_uri": "https://localhost:8080/",
          "height": 265
        },
        "id": "JsgY74-SfDzP",
        "outputId": "81cc9841-2d29-4602-bfd0-e6ab4bfce335"
      },
      "source": [
        "df2[(df2.date > '2011') & (df2.is_holiday == True)]['weekly_sales'].hist(alpha = .8, bins = 5)\n",
        "df2[(df2.date < '2011') & (df2.is_holiday == True)]['weekly_sales'].hist(alpha = .5, bins = 5)\n",
        "plt.legend([\"2012\", \"2010\"])\n",
        "plt.show()"
      ],
      "execution_count": 102,
      "outputs": [
        {
          "output_type": "display_data",
          "data": {
            "image/png": "[encoded data removed]",
            "text/plain": [
              "<Figure size 432x288 with 1 Axes>"
            ]
          },
          "metadata": {
            "needs_background": "light"
          }
        }
      ]
    },
    {
      "cell_type": "markdown",
      "metadata": {
        "id": "K9KWSS8ajnXY"
      },
      "source": [
        "# 9. Missing values"
      ]
    },
    {
      "cell_type": "code",
      "metadata": {
        "colab": {
          "base_uri": "https://localhost:8080/"
        },
        "id": "ro9hT-jxfjUO",
        "outputId": "4241e708-354f-4033-9dad-4e5eaa4fb997"
      },
      "source": [
        "df1.isna().any()"
      ],
      "execution_count": 106,
      "outputs": [
        {
          "output_type": "execute_result",
          "data": {
            "text/plain": [
              "date          False\n",
              "city          False\n",
              "country       False\n",
              "avg_temp_c     True\n",
              "dtype: bool"
            ]
          },
          "metadata": {},
          "execution_count": 106
        }
      ]
    },
    {
      "cell_type": "code",
      "metadata": {
        "colab": {
          "base_uri": "https://localhost:8080/"
        },
        "id": "8_BY_NI4jtZX",
        "outputId": "ac784e76-ef1d-4df5-d260-093117de553d"
      },
      "source": [
        "df1.isna().sum()"
      ],
      "execution_count": 107,
      "outputs": [
        {
          "output_type": "execute_result",
          "data": {
            "text/plain": [
              "date           0\n",
              "city           0\n",
              "country        0\n",
              "avg_temp_c    93\n",
              "dtype: int64"
            ]
          },
          "metadata": {},
          "execution_count": 107
        }
      ]
    },
    {
      "cell_type": "code",
      "metadata": {
        "colab": {
          "base_uri": "https://localhost:8080/",
          "height": 305
        },
        "id": "v7du-RXpj9we",
        "outputId": "329b4c7f-46ea-452f-abb5-8c31a37f28d7"
      },
      "source": [
        "df1.isna().sum().plot(kind = 'bar', rot = 45)\n",
        "plt.show()"
      ],
      "execution_count": 109,
      "outputs": [
        {
          "output_type": "display_data",
          "data": {
            "image/png": "[encoded data removed]",
            "text/plain": [
              "<Figure size 432x288 with 1 Axes>"
            ]
          },
          "metadata": {
            "needs_background": "light"
          }
        }
      ]
    },
    {
      "cell_type": "code",
      "metadata": {
        "colab": {
          "base_uri": "https://localhost:8080/"
        },
        "id": "63MHK5nnkH52",
        "outputId": "df5b39fe-1d34-4e70-d7b3-9fc53cc4830c"
      },
      "source": [
        "df1_drop_na = df1.dropna()\n",
        "df1_drop_na.isna().any()"
      ],
      "execution_count": 111,
      "outputs": [
        {
          "output_type": "execute_result",
          "data": {
            "text/plain": [
              "date          False\n",
              "city          False\n",
              "country       False\n",
              "avg_temp_c    False\n",
              "dtype: bool"
            ]
          },
          "metadata": {},
          "execution_count": 111
        }
      ]
    },
    {
      "cell_type": "code",
      "metadata": {
        "colab": {
          "base_uri": "https://localhost:8080/"
        },
        "id": "RveGN9dPkTMF",
        "outputId": "9d4df21d-47d4-445e-a767-61d3b2a996b0"
      },
      "source": [
        "df1_fill_0 = df1.fillna(df1.avg_temp_c.mean())\n",
        "df1_drop_na.isna().any()"
      ],
      "execution_count": 113,
      "outputs": [
        {
          "output_type": "execute_result",
          "data": {
            "text/plain": [
              "date          False\n",
              "city          False\n",
              "country       False\n",
              "avg_temp_c    False\n",
              "dtype: bool"
            ]
          },
          "metadata": {},
          "execution_count": 113
        }
      ]
    },
    {
      "cell_type": "markdown",
      "metadata": {
        "id": "97xd6M71lB4T"
      },
      "source": [
        "#10. Creating DataFrames"
      ]
    },
    {
      "cell_type": "code",
      "metadata": {
        "colab": {
          "base_uri": "https://localhost:8080/",
          "height": 112
        },
        "id": "jZB4eJB-kx3M",
        "outputId": "fc7538c0-0771-46cb-d671-9892843a1762"
      },
      "source": [
        "list_of_dicts = [\n",
        "{\"name\": \"Ginger\", \"breed\": \"Dachshund\", \"height_cm\": 22,\n",
        "\"weight_kg\": 10, \"date_of_birth\": \"2019-03-14\"},\n",
        "{\"name\": \"Scout\", \"breed\": \"Dalmatian\", \"height_cm\": 59,\n",
        "\"weight_kg\": 25, \"date_of_birth\": \"2019-05-09\"}\n",
        "]\n",
        "\n",
        "pd.DataFrame(list_of_dicts)"
      ],
      "execution_count": 114,
      "outputs": [
        {
          "output_type": "execute_result",
          "data": {
            "text/html": [
              "<div>\n",
              "<style scoped>\n",
              "    .dataframe tbody tr th:only-of-type {\n",
              "        vertical-align: middle;\n",
              "    }\n",
              "\n",
              "    .dataframe tbody tr th {\n",
              "        vertical-align: top;\n",
              "    }\n",
              "\n",
              "    .dataframe thead th {\n",
              "        text-align: right;\n",
              "    }\n",
              "</style>\n",
              "<table border=\"1\" class=\"dataframe\">\n",
              "  <thead>\n",
              "    <tr style=\"text-align: right;\">\n",
              "      <th></th>\n",
              "      <th>name</th>\n",
              "      <th>breed</th>\n",
              "      <th>height_cm</th>\n",
              "      <th>weight_kg</th>\n",
              "      <th>date_of_birth</th>\n",
              "    </tr>\n",
              "  </thead>\n",
              "  <tbody>\n",
              "    <tr>\n",
              "      <th>0</th>\n",
              "      <td>Ginger</td>\n",
              "      <td>Dachshund</td>\n",
              "      <td>22</td>\n",
              "      <td>10</td>\n",
              "      <td>2019-03-14</td>\n",
              "    </tr>\n",
              "    <tr>\n",
              "      <th>1</th>\n",
              "      <td>Scout</td>\n",
              "      <td>Dalmatian</td>\n",
              "      <td>59</td>\n",
              "      <td>25</td>\n",
              "      <td>2019-05-09</td>\n",
              "    </tr>\n",
              "  </tbody>\n",
              "</table>\n",
              "</div>"
            ],
            "text/plain": [
              "     name      breed  height_cm  weight_kg date_of_birth\n",
              "0  Ginger  Dachshund         22         10    2019-03-14\n",
              "1   Scout  Dalmatian         59         25    2019-05-09"
            ]
          },
          "metadata": {},
          "execution_count": 114
        }
      ]
    },
    {
      "cell_type": "code",
      "metadata": {
        "colab": {
          "base_uri": "https://localhost:8080/",
          "height": 112
        },
        "id": "bOmdW7E4lWWs",
        "outputId": "a0b58ac9-ba29-4ec6-9f3e-a0478b05a971"
      },
      "source": [
        "dict_of_lists = {\n",
        "\"name\": [\"Ginger\", \"Scout\"],\n",
        "\"breed\": [\"Dachshund\", \"Dalmatian\"],\n",
        "\"height_cm\": [22, 59],\n",
        "\"weight_kg\": [10, 25],\n",
        "\"date_of_birth\": [\"2019-03-14\",\n",
        "\"2019-05-09\"]\n",
        "} \n",
        "df4 = pd.DataFrame(dict_of_lists)\n",
        "df4"
      ],
      "execution_count": 116,
      "outputs": [
        {
          "output_type": "execute_result",
          "data": {
            "text/html": [
              "<div>\n",
              "<style scoped>\n",
              "    .dataframe tbody tr th:only-of-type {\n",
              "        vertical-align: middle;\n",
              "    }\n",
              "\n",
              "    .dataframe tbody tr th {\n",
              "        vertical-align: top;\n",
              "    }\n",
              "\n",
              "    .dataframe thead th {\n",
              "        text-align: right;\n",
              "    }\n",
              "</style>\n",
              "<table border=\"1\" class=\"dataframe\">\n",
              "  <thead>\n",
              "    <tr style=\"text-align: right;\">\n",
              "      <th></th>\n",
              "      <th>name</th>\n",
              "      <th>breed</th>\n",
              "      <th>height_cm</th>\n",
              "      <th>weight_kg</th>\n",
              "      <th>date_of_birth</th>\n",
              "    </tr>\n",
              "  </thead>\n",
              "  <tbody>\n",
              "    <tr>\n",
              "      <th>0</th>\n",
              "      <td>Ginger</td>\n",
              "      <td>Dachshund</td>\n",
              "      <td>22</td>\n",
              "      <td>10</td>\n",
              "      <td>2019-03-14</td>\n",
              "    </tr>\n",
              "    <tr>\n",
              "      <th>1</th>\n",
              "      <td>Scout</td>\n",
              "      <td>Dalmatian</td>\n",
              "      <td>59</td>\n",
              "      <td>25</td>\n",
              "      <td>2019-05-09</td>\n",
              "    </tr>\n",
              "  </tbody>\n",
              "</table>\n",
              "</div>"
            ],
            "text/plain": [
              "     name      breed  height_cm  weight_kg date_of_birth\n",
              "0  Ginger  Dachshund         22         10    2019-03-14\n",
              "1   Scout  Dalmatian         59         25    2019-05-09"
            ]
          },
          "metadata": {},
          "execution_count": 116
        }
      ]
    },
    {
      "cell_type": "code",
      "metadata": {
        "id": "ZnWaATbbleGz"
      },
      "source": [
        "# DataFrame to CSV\n",
        "df4.to_csv('dog.csv')"
      ],
      "execution_count": 117,
      "outputs": []
    }
  ]
}