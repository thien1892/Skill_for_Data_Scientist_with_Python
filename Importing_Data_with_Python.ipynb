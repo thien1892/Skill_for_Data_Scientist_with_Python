{
  "nbformat": 4,
  "nbformat_minor": 0,
  "metadata": {
    "colab": {
      "name": "Importing  Data with Python.ipynb",
      "provenance": [],
      "mount_file_id": "1wjKuDkKPrPQoACjFHo7aTOX7B4YwmPzJ",
      "authorship_tag": "ABX9TyPGtWm9om0LjIUHADpQZZbM",
      "include_colab_link": true
    },
    "kernelspec": {
      "name": "python3",
      "display_name": "Python 3"
    },
    "language_info": {
      "name": "python"
    }
  },
  "cells": [
    {
      "cell_type": "markdown",
      "metadata": {
        "id": "view-in-github",
        "colab_type": "text"
      },
      "source": [
        "<a href=\"https://colab.research.google.com/github/thien1892/Skill_for_Data_Scientist_with_Python/blob/main/Importing_Data_with_Python.ipynb\" target=\"_parent\"><img src=\"https://colab.research.google.com/assets/colab-badge.svg\" alt=\"Open In Colab\"/></a>"
      ]
    },
    {
      "cell_type": "markdown",
      "metadata": {
        "id": "HLTtIRmYWIzD"
      },
      "source": [
        "# 1. Load text file"
      ]
    },
    {
      "cell_type": "code",
      "metadata": {
        "colab": {
          "base_uri": "https://localhost:8080/"
        },
        "id": "kD4OZptiadJU",
        "outputId": "c18ed4e1-bdda-47b8-a1bf-1e731e491e29"
      },
      "source": [
        "cd /content/drive/MyDrive/Data_scientist_with_python/Dataset/Introduction to Importing Data in Python/"
      ],
      "execution_count": 14,
      "outputs": [
        {
          "output_type": "stream",
          "name": "stdout",
          "text": [
            "/content/drive/MyDrive/Data_scientist_with_python/Dataset/Introduction to Importing Data in Python\n"
          ]
        }
      ]
    },
    {
      "cell_type": "markdown",
      "metadata": {
        "id": "TZJPPWaIbLB6"
      },
      "source": [
        "## 1.1. Reading a text file"
      ]
    },
    {
      "cell_type": "code",
      "metadata": {
        "id": "KzgbJbWIXwP9"
      },
      "source": [
        "filename = 'William Shakespeare.txt'\n",
        "file = open(filename, mode='r') # 'r' is to read\n",
        "text = file.read()\n",
        "file.close()"
      ],
      "execution_count": 22,
      "outputs": []
    },
    {
      "cell_type": "code",
      "metadata": {
        "colab": {
          "base_uri": "https://localhost:8080/"
        },
        "id": "ru9DFkFman-0",
        "outputId": "fbfc47d9-a5ff-4e0c-bdfd-c996aa2a947c"
      },
      "source": [
        "print(text)"
      ],
      "execution_count": 23,
      "outputs": [
        {
          "output_type": "stream",
          "name": "stdout",
          "text": [
            "William Shakespeare (bapt. 26 April 1564 – 23 April 1616)[a] was an English playwright, poet, and actor, widely regarded as\n",
            " the greatest writer in the English language and the world's greatest dramatist.[2][3][4] He is often called England's\n",
            " national poet and the \"Bard of Avon\" (or simply \"the Bard\").[5][b] His extant works, including collaborations, \n",
            "consist of some 39 plays,[c] 154 sonnets, three long narrative poems, and a few other verses, some of uncertain authorship.\n",
            " His plays have been translated into every major living language and are performed more often than those of any other\n",
            " playwright.[7] They also continue to be studied and reinterpreted.\n"
          ]
        }
      ]
    },
    {
      "cell_type": "markdown",
      "metadata": {
        "id": "PKLJ1XlMdMA1"
      },
      "source": [
        "## 1.2. Writing to a file"
      ]
    },
    {
      "cell_type": "code",
      "metadata": {
        "id": "DsojX6ygb4LQ"
      },
      "source": [
        "filename = 'hello.txt'\n",
        "file = open(filename, mode='w') # 'w' is to write\n",
        "file.write('hello \\n my name is thien')\n",
        "file.close()"
      ],
      "execution_count": 32,
      "outputs": []
    },
    {
      "cell_type": "markdown",
      "metadata": {
        "id": "cBAbEIqDdXee"
      },
      "source": [
        "## 1.3. Context manager with"
      ]
    },
    {
      "cell_type": "code",
      "metadata": {
        "colab": {
          "base_uri": "https://localhost:8080/"
        },
        "id": "wQ1Co1_FXFNl",
        "outputId": "80e2a8b6-f25c-4ee0-ef25-6512d7d4140a"
      },
      "source": [
        "with open( 'hello.txt' , 'r') as file:\n",
        "  print(file.read())"
      ],
      "execution_count": 33,
      "outputs": [
        {
          "output_type": "stream",
          "name": "stdout",
          "text": [
            "hello \n",
            " my name is thien\n"
          ]
        }
      ]
    }
  ]
}